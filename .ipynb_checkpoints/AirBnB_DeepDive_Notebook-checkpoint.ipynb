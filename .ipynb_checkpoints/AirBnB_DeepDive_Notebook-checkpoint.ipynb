{
 "cells": [
  {
   "cell_type": "markdown",
   "metadata": {},
   "source": [
    "# Deepdive into Boston and Airbnb Data\n",
    "\n",
    "## CRISP DM Process\n",
    "\n",
    "**1. Business Understanding** Airbnb is in property rental business, we want to do a comparative analysis for Boston and Seattle Market differ in various aspects and following are the important question to answer\n",
    "\n",
    "1. Is there any significant difference between Seattle and Boston AirBnB Homes. \n",
    "    1. How Prices in these Markets are vary in terms of Property Type , Room Type , Long Stay Property vs Short Stay Property\n",
    "2. How seasonality is impacting Pricing and Inventory Availability for both cities\n",
    "3. Does Top Amenities that are available in high-value properties vary between cities\n",
    "4.  Which  are the neighbourhoods which are getting high reviews but there is shortage of inventory leading to increase in price.\n",
    "5. What are the Key Features that are impacting rental pricing prediction for these cities ?  Are these features vary between cities\n",
    "\n",
    "**2.Data Understanding** Boston dataset consists of **3146** listings while Seattle's has **4213** listings. Datasets were investigated before any preprocessing.\n",
    "\n",
    "**3.Prepare Data** Following Techniques are used :\n",
    "    1. Cleaning Dataframe\n",
    "    2. Removing NaN\n",
    "    3. Outlier Removal\n",
    "    \n",
    "    \n",
    "**4.Data Modeling** Linear Regression model is used for seperatly for boston and seattle\n",
    "\n",
    "**5.Evaluate the Results** Result and discussion are published in "
   ]
  },
  {
   "cell_type": "code",
   "execution_count": 116,
   "metadata": {},
   "outputs": [],
   "source": [
    "# Importing Libraries\n",
    "\n",
    "import pandas as pd\n",
    "import numpy as np\n",
    "import warnings\n",
    "import matplotlib.pyplot as plt\n",
    "import seaborn as sns\n",
    "from sklearn.linear_model import LinearRegression\n",
    "from sklearn.model_selection import train_test_split\n",
    "from sklearn.metrics import r2_score\n",
    "sns.set_style(\"white\")\n",
    "warnings.filterwarnings('ignore')\n",
    "%matplotlib inline"
   ]
  },
  {
   "cell_type": "code",
   "execution_count": 117,
   "metadata": {},
   "outputs": [],
   "source": [
    "from IPython.core.interactiveshell import InteractiveShell\n",
    "InteractiveShell.ast_node_interactivity = \"all\""
   ]
  },
  {
   "cell_type": "markdown",
   "metadata": {},
   "source": [
    "**Data Pre-Processing Boston City**"
   ]
  },
  {
   "cell_type": "code",
   "execution_count": 118,
   "metadata": {},
   "outputs": [
    {
     "data": {
      "text/plain": [
       "(3146, 74)"
      ]
     },
     "execution_count": 118,
     "metadata": {},
     "output_type": "execute_result"
    }
   ],
   "source": [
    "# Reading Data\n",
    "df_listings_boston = pd.read_csv(r'Boston Data\\listings (1).csv.gz', compression = 'gzip',error_bad_lines=False)\n",
    "\n",
    "df_listings_boston.shape"
   ]
  },
  {
   "cell_type": "code",
   "execution_count": 119,
   "metadata": {},
   "outputs": [],
   "source": [
    "# Subsetting Dataframe\n",
    "df_listings1_boston = df_listings_boston[['host_since','host_response_rate',\n",
    "                                          'host_acceptance_rate',\n",
    "                                          'host_is_superhost',\n",
    "                                          'neighbourhood_cleansed',\n",
    "                                          'latitude', 'longitude',\n",
    "                                          'property_type', 'room_type',\n",
    "                                          'amenities', 'price',\n",
    "                                          'minimum_nights', 'maximum_nights',\n",
    "                                          'has_availability',\n",
    "                                          'availability_365',\n",
    "                                          'number_of_reviews',\n",
    "                                          'number_of_reviews_ltm',\n",
    "                                          'review_scores_rating',\n",
    "                                          'review_scores_accuracy',\n",
    "                                          'review_scores_cleanliness',\n",
    "                                          'review_scores_checkin',\n",
    "                                          'review_scores_communication',\n",
    "                                          'review_scores_location',\n",
    "                                          'review_scores_value',\n",
    "                                          'instant_bookable', 'id',\n",
    "                                          'name', 'host_id', 'host_name',\n",
    "                                          'host_listings_count',\n",
    "                                          'accommodates',\n",
    "                                          'bathrooms', 'bedrooms', 'beds']]\n"
   ]
  },
  {
   "cell_type": "code",
   "execution_count": 120,
   "metadata": {},
   "outputs": [],
   "source": [
    "# Cleaning Data\n",
    "\n",
    "# Price Column - Removing Special Characters\n",
    "df_listings1_boston['price'] = df_listings1_boston['price'].str.replace('$','')\n",
    "df_listings1_boston['price'] = df_listings1_boston['price'].str.replace(',','')\n",
    "df_listings1_boston['price'] = df_listings1_boston['price'].str.replace('.00','')\n",
    "df_listings1_boston['price'] = pd.to_numeric(df_listings1_boston['price'])"
   ]
  },
  {
   "cell_type": "code",
   "execution_count": 121,
   "metadata": {},
   "outputs": [],
   "source": [
    "# host_response_rate and host_acceptance_rate - Removing % Sign\n",
    "df_listings1_boston['host_response_rate'] = df_listings1_boston['host_response_rate'].str.replace('%','')\n",
    "df_listings1_boston['host_response_rate'] = pd.to_numeric(df_listings1_boston['host_response_rate'])\n",
    "df_listings1_boston['host_acceptance_rate'] = df_listings1_boston['host_acceptance_rate'].str.replace('%','')\n",
    "df_listings1_boston['host_acceptance_rate'] = pd.to_numeric(df_listings1_boston['host_acceptance_rate'])"
   ]
  },
  {
   "cell_type": "code",
   "execution_count": 122,
   "metadata": {},
   "outputs": [],
   "source": [
    "# Boolean Columns Creation\n",
    "d = {'t': True, 'f': False}\n",
    "df_listings1_boston['host_is_superhost'] = df_listings1_boston['host_is_superhost'].map(d)\n",
    "df_listings1_boston['has_availability'] = df_listings1_boston['has_availability'].map(d)\n",
    "df_listings1_boston['instant_bookable'] = df_listings1_boston['instant_bookable'].map(d)"
   ]
  },
  {
   "cell_type": "markdown",
   "metadata": {},
   "source": [
    "**Creating Calculated column Host Experience from Host Since Column**"
   ]
  },
  {
   "cell_type": "code",
   "execution_count": 123,
   "metadata": {},
   "outputs": [],
   "source": [
    "df_listings1_boston['host_since'] = pd.to_datetime(df_listings1_boston['host_since'])\n",
    "df_listings1_boston['today'] = '2021-04-30'\n",
    "df_listings1_boston['today'] = pd.to_datetime(df_listings1_boston['today'])\n",
    "\n",
    "df_listings1_boston['HostExperience'] = df_listings1_boston['today'] - df_listings1_boston['host_since']\n",
    "df_listings1_boston['HostExperience'] = df_listings1_boston['HostExperience']/np.timedelta64(1,'Y')\n",
    "df_listings1_boston.drop(['host_since','today'], axis = 1, inplace = True)"
   ]
  },
  {
   "cell_type": "markdown",
   "metadata": {},
   "source": [
    "**Dropping NA from Price Columns** : Rationale :- Price is the anchor for any kind of analysis, Null values will impact our analysis"
   ]
  },
  {
   "cell_type": "code",
   "execution_count": 124,
   "metadata": {},
   "outputs": [],
   "source": [
    "df_listings1_boston.dropna(subset = ['price'], inplace = True)"
   ]
  },
  {
   "cell_type": "code",
   "execution_count": 125,
   "metadata": {},
   "outputs": [
    {
     "data": {
      "text/html": [
       "<div>\n",
       "<style scoped>\n",
       "    .dataframe tbody tr th:only-of-type {\n",
       "        vertical-align: middle;\n",
       "    }\n",
       "\n",
       "    .dataframe tbody tr th {\n",
       "        vertical-align: top;\n",
       "    }\n",
       "\n",
       "    .dataframe thead th {\n",
       "        text-align: right;\n",
       "    }\n",
       "</style>\n",
       "<table border=\"1\" class=\"dataframe\">\n",
       "  <thead>\n",
       "    <tr style=\"text-align: right;\">\n",
       "      <th></th>\n",
       "      <th>host_response_rate</th>\n",
       "      <th>host_acceptance_rate</th>\n",
       "      <th>latitude</th>\n",
       "      <th>longitude</th>\n",
       "      <th>price</th>\n",
       "      <th>minimum_nights</th>\n",
       "      <th>maximum_nights</th>\n",
       "      <th>availability_365</th>\n",
       "      <th>number_of_reviews</th>\n",
       "      <th>number_of_reviews_ltm</th>\n",
       "      <th>...</th>\n",
       "      <th>review_scores_location</th>\n",
       "      <th>review_scores_value</th>\n",
       "      <th>id</th>\n",
       "      <th>host_id</th>\n",
       "      <th>host_listings_count</th>\n",
       "      <th>accommodates</th>\n",
       "      <th>bathrooms</th>\n",
       "      <th>bedrooms</th>\n",
       "      <th>beds</th>\n",
       "      <th>HostExperience</th>\n",
       "    </tr>\n",
       "  </thead>\n",
       "  <tbody>\n",
       "    <tr>\n",
       "      <th>count</th>\n",
       "      <td>2367.000000</td>\n",
       "      <td>2378.000000</td>\n",
       "      <td>2987.000000</td>\n",
       "      <td>2987.000000</td>\n",
       "      <td>2987.000000</td>\n",
       "      <td>2987.000000</td>\n",
       "      <td>2987.000000</td>\n",
       "      <td>2987.000000</td>\n",
       "      <td>2987.000000</td>\n",
       "      <td>2987.000000</td>\n",
       "      <td>...</td>\n",
       "      <td>2038.000000</td>\n",
       "      <td>2038.000000</td>\n",
       "      <td>2.987000e+03</td>\n",
       "      <td>2.987000e+03</td>\n",
       "      <td>2920.000000</td>\n",
       "      <td>2987.000000</td>\n",
       "      <td>0.0</td>\n",
       "      <td>2586.000000</td>\n",
       "      <td>2887.000000</td>\n",
       "      <td>2920.000000</td>\n",
       "    </tr>\n",
       "    <tr>\n",
       "      <th>mean</th>\n",
       "      <td>94.768483</td>\n",
       "      <td>84.545837</td>\n",
       "      <td>42.337396</td>\n",
       "      <td>-71.081043</td>\n",
       "      <td>149.282558</td>\n",
       "      <td>42.236358</td>\n",
       "      <td>765.861065</td>\n",
       "      <td>181.128557</td>\n",
       "      <td>36.039839</td>\n",
       "      <td>4.147305</td>\n",
       "      <td>...</td>\n",
       "      <td>9.589794</td>\n",
       "      <td>9.274289</td>\n",
       "      <td>3.015661e+07</td>\n",
       "      <td>1.197401e+08</td>\n",
       "      <td>197.602055</td>\n",
       "      <td>3.033478</td>\n",
       "      <td>NaN</td>\n",
       "      <td>1.426914</td>\n",
       "      <td>1.641496</td>\n",
       "      <td>4.995082</td>\n",
       "    </tr>\n",
       "    <tr>\n",
       "      <th>std</th>\n",
       "      <td>15.445609</td>\n",
       "      <td>24.756666</td>\n",
       "      <td>0.026629</td>\n",
       "      <td>0.032588</td>\n",
       "      <td>147.206242</td>\n",
       "      <td>44.896395</td>\n",
       "      <td>447.551818</td>\n",
       "      <td>138.752847</td>\n",
       "      <td>70.842278</td>\n",
       "      <td>12.776050</td>\n",
       "      <td>...</td>\n",
       "      <td>0.762095</td>\n",
       "      <td>0.978330</td>\n",
       "      <td>1.533693e+07</td>\n",
       "      <td>1.248477e+08</td>\n",
       "      <td>482.064322</td>\n",
       "      <td>2.098915</td>\n",
       "      <td>NaN</td>\n",
       "      <td>0.842003</td>\n",
       "      <td>1.305135</td>\n",
       "      <td>2.824563</td>\n",
       "    </tr>\n",
       "    <tr>\n",
       "      <th>min</th>\n",
       "      <td>0.000000</td>\n",
       "      <td>0.000000</td>\n",
       "      <td>42.235330</td>\n",
       "      <td>-71.173510</td>\n",
       "      <td>0.000000</td>\n",
       "      <td>1.000000</td>\n",
       "      <td>1.000000</td>\n",
       "      <td>0.000000</td>\n",
       "      <td>0.000000</td>\n",
       "      <td>0.000000</td>\n",
       "      <td>...</td>\n",
       "      <td>2.000000</td>\n",
       "      <td>2.000000</td>\n",
       "      <td>3.781000e+03</td>\n",
       "      <td>4.804000e+03</td>\n",
       "      <td>0.000000</td>\n",
       "      <td>0.000000</td>\n",
       "      <td>NaN</td>\n",
       "      <td>1.000000</td>\n",
       "      <td>0.000000</td>\n",
       "      <td>0.104040</td>\n",
       "    </tr>\n",
       "    <tr>\n",
       "      <th>25%</th>\n",
       "      <td>97.000000</td>\n",
       "      <td>86.000000</td>\n",
       "      <td>42.322020</td>\n",
       "      <td>-71.097930</td>\n",
       "      <td>70.000000</td>\n",
       "      <td>2.000000</td>\n",
       "      <td>365.000000</td>\n",
       "      <td>47.000000</td>\n",
       "      <td>0.000000</td>\n",
       "      <td>0.000000</td>\n",
       "      <td>...</td>\n",
       "      <td>9.000000</td>\n",
       "      <td>9.000000</td>\n",
       "      <td>1.755039e+07</td>\n",
       "      <td>1.660532e+07</td>\n",
       "      <td>1.000000</td>\n",
       "      <td>2.000000</td>\n",
       "      <td>NaN</td>\n",
       "      <td>1.000000</td>\n",
       "      <td>1.000000</td>\n",
       "      <td>2.601012</td>\n",
       "    </tr>\n",
       "    <tr>\n",
       "      <th>50%</th>\n",
       "      <td>100.000000</td>\n",
       "      <td>95.000000</td>\n",
       "      <td>42.344410</td>\n",
       "      <td>-71.070500</td>\n",
       "      <td>125.000000</td>\n",
       "      <td>29.000000</td>\n",
       "      <td>1125.000000</td>\n",
       "      <td>174.000000</td>\n",
       "      <td>5.000000</td>\n",
       "      <td>0.000000</td>\n",
       "      <td>...</td>\n",
       "      <td>10.000000</td>\n",
       "      <td>9.000000</td>\n",
       "      <td>3.286109e+07</td>\n",
       "      <td>5.997879e+07</td>\n",
       "      <td>6.000000</td>\n",
       "      <td>2.000000</td>\n",
       "      <td>NaN</td>\n",
       "      <td>1.000000</td>\n",
       "      <td>1.000000</td>\n",
       "      <td>5.066497</td>\n",
       "    </tr>\n",
       "    <tr>\n",
       "      <th>75%</th>\n",
       "      <td>100.000000</td>\n",
       "      <td>99.000000</td>\n",
       "      <td>42.354240</td>\n",
       "      <td>-71.061255</td>\n",
       "      <td>185.000000</td>\n",
       "      <td>91.000000</td>\n",
       "      <td>1125.000000</td>\n",
       "      <td>327.000000</td>\n",
       "      <td>38.000000</td>\n",
       "      <td>3.000000</td>\n",
       "      <td>...</td>\n",
       "      <td>10.000000</td>\n",
       "      <td>10.000000</td>\n",
       "      <td>4.522052e+07</td>\n",
       "      <td>2.156178e+08</td>\n",
       "      <td>30.000000</td>\n",
       "      <td>4.000000</td>\n",
       "      <td>NaN</td>\n",
       "      <td>2.000000</td>\n",
       "      <td>2.000000</td>\n",
       "      <td>6.815335</td>\n",
       "    </tr>\n",
       "    <tr>\n",
       "      <th>max</th>\n",
       "      <td>100.000000</td>\n",
       "      <td>100.000000</td>\n",
       "      <td>42.399730</td>\n",
       "      <td>-70.982640</td>\n",
       "      <td>3999.000000</td>\n",
       "      <td>1000.000000</td>\n",
       "      <td>1125.000000</td>\n",
       "      <td>365.000000</td>\n",
       "      <td>610.000000</td>\n",
       "      <td>375.000000</td>\n",
       "      <td>...</td>\n",
       "      <td>10.000000</td>\n",
       "      <td>10.000000</td>\n",
       "      <td>4.930686e+07</td>\n",
       "      <td>3.938483e+08</td>\n",
       "      <td>2232.000000</td>\n",
       "      <td>16.000000</td>\n",
       "      <td>NaN</td>\n",
       "      <td>13.000000</td>\n",
       "      <td>22.000000</td>\n",
       "      <td>12.405457</td>\n",
       "    </tr>\n",
       "  </tbody>\n",
       "</table>\n",
       "<p>8 rows × 25 columns</p>\n",
       "</div>"
      ],
      "text/plain": [
       "       host_response_rate  host_acceptance_rate     latitude    longitude  \\\n",
       "count         2367.000000           2378.000000  2987.000000  2987.000000   \n",
       "mean            94.768483             84.545837    42.337396   -71.081043   \n",
       "std             15.445609             24.756666     0.026629     0.032588   \n",
       "min              0.000000              0.000000    42.235330   -71.173510   \n",
       "25%             97.000000             86.000000    42.322020   -71.097930   \n",
       "50%            100.000000             95.000000    42.344410   -71.070500   \n",
       "75%            100.000000             99.000000    42.354240   -71.061255   \n",
       "max            100.000000            100.000000    42.399730   -70.982640   \n",
       "\n",
       "             price  minimum_nights  maximum_nights  availability_365  \\\n",
       "count  2987.000000     2987.000000     2987.000000       2987.000000   \n",
       "mean    149.282558       42.236358      765.861065        181.128557   \n",
       "std     147.206242       44.896395      447.551818        138.752847   \n",
       "min       0.000000        1.000000        1.000000          0.000000   \n",
       "25%      70.000000        2.000000      365.000000         47.000000   \n",
       "50%     125.000000       29.000000     1125.000000        174.000000   \n",
       "75%     185.000000       91.000000     1125.000000        327.000000   \n",
       "max    3999.000000     1000.000000     1125.000000        365.000000   \n",
       "\n",
       "       number_of_reviews  number_of_reviews_ltm  ...  review_scores_location  \\\n",
       "count        2987.000000            2987.000000  ...             2038.000000   \n",
       "mean           36.039839               4.147305  ...                9.589794   \n",
       "std            70.842278              12.776050  ...                0.762095   \n",
       "min             0.000000               0.000000  ...                2.000000   \n",
       "25%             0.000000               0.000000  ...                9.000000   \n",
       "50%             5.000000               0.000000  ...               10.000000   \n",
       "75%            38.000000               3.000000  ...               10.000000   \n",
       "max           610.000000             375.000000  ...               10.000000   \n",
       "\n",
       "       review_scores_value            id       host_id  host_listings_count  \\\n",
       "count          2038.000000  2.987000e+03  2.987000e+03          2920.000000   \n",
       "mean              9.274289  3.015661e+07  1.197401e+08           197.602055   \n",
       "std               0.978330  1.533693e+07  1.248477e+08           482.064322   \n",
       "min               2.000000  3.781000e+03  4.804000e+03             0.000000   \n",
       "25%               9.000000  1.755039e+07  1.660532e+07             1.000000   \n",
       "50%               9.000000  3.286109e+07  5.997879e+07             6.000000   \n",
       "75%              10.000000  4.522052e+07  2.156178e+08            30.000000   \n",
       "max              10.000000  4.930686e+07  3.938483e+08          2232.000000   \n",
       "\n",
       "       accommodates  bathrooms     bedrooms         beds  HostExperience  \n",
       "count   2987.000000        0.0  2586.000000  2887.000000     2920.000000  \n",
       "mean       3.033478        NaN     1.426914     1.641496        4.995082  \n",
       "std        2.098915        NaN     0.842003     1.305135        2.824563  \n",
       "min        0.000000        NaN     1.000000     0.000000        0.104040  \n",
       "25%        2.000000        NaN     1.000000     1.000000        2.601012  \n",
       "50%        2.000000        NaN     1.000000     1.000000        5.066497  \n",
       "75%        4.000000        NaN     2.000000     2.000000        6.815335  \n",
       "max       16.000000        NaN    13.000000    22.000000       12.405457  \n",
       "\n",
       "[8 rows x 25 columns]"
      ]
     },
     "execution_count": 125,
     "metadata": {},
     "output_type": "execute_result"
    }
   ],
   "source": [
    "# Describe Table\n",
    "df_listings1_boston.describe()"
   ]
  },
  {
   "cell_type": "code",
   "execution_count": 126,
   "metadata": {},
   "outputs": [
    {
     "data": {
      "text/plain": [
       "host_response_rate              20.756612\n",
       "host_acceptance_rate            20.388350\n",
       "host_is_superhost                2.243053\n",
       "neighbourhood_cleansed           0.000000\n",
       "latitude                         0.000000\n",
       "longitude                        0.000000\n",
       "property_type                    0.000000\n",
       "room_type                        0.000000\n",
       "amenities                        0.000000\n",
       "price                            0.000000\n",
       "minimum_nights                   0.000000\n",
       "maximum_nights                   0.000000\n",
       "has_availability                 0.000000\n",
       "availability_365                 0.000000\n",
       "number_of_reviews                0.000000\n",
       "number_of_reviews_ltm            0.000000\n",
       "review_scores_rating            31.737529\n",
       "review_scores_accuracy          31.771008\n",
       "review_scores_cleanliness       31.737529\n",
       "review_scores_checkin           31.771008\n",
       "review_scores_communication     31.737529\n",
       "review_scores_location          31.771008\n",
       "review_scores_value             31.771008\n",
       "instant_bookable                 0.000000\n",
       "id                               0.000000\n",
       "name                             0.000000\n",
       "host_id                          0.000000\n",
       "host_name                        2.243053\n",
       "host_listings_count              2.243053\n",
       "accommodates                     0.000000\n",
       "bathrooms                      100.000000\n",
       "bedrooms                        13.424841\n",
       "beds                             3.347841\n",
       "HostExperience                   2.243053\n",
       "dtype: float64"
      ]
     },
     "execution_count": 126,
     "metadata": {},
     "output_type": "execute_result"
    }
   ],
   "source": [
    "# Missing Values\n",
    "df_listings1_boston.isna().mean() * 100"
   ]
  },
  {
   "cell_type": "code",
   "execution_count": 127,
   "metadata": {},
   "outputs": [],
   "source": [
    "# Dropping Bathroom as approx 100% values are missing\n",
    "df_listings1_boston.drop(['bathrooms'], axis = 1, inplace = True)"
   ]
  },
  {
   "cell_type": "markdown",
   "metadata": {},
   "source": [
    "**Data Pre-Processing Seattle City**"
   ]
  },
  {
   "cell_type": "code",
   "execution_count": 128,
   "metadata": {},
   "outputs": [
    {
     "data": {
      "text/plain": [
       "(4213, 74)"
      ]
     },
     "execution_count": 128,
     "metadata": {},
     "output_type": "execute_result"
    }
   ],
   "source": [
    "df_listings_Seattle = pd.read_csv(r'Seattle Data\\listings (1).csv.gz', compression = 'gzip',error_bad_lines=False)\n",
    "df_listings_Seattle.shape"
   ]
  },
  {
   "cell_type": "code",
   "execution_count": 129,
   "metadata": {},
   "outputs": [],
   "source": [
    "# Subsetting Data\n",
    "df_listings1_Seattle = df_listings_Seattle[['host_since', \n",
    "                                            'host_response_rate',\n",
    "                                            'host_acceptance_rate',\n",
    "                                            'host_is_superhost',\n",
    "                                            'neighbourhood_cleansed',\n",
    "                                            'latitude',\n",
    "                                            'longitude',\n",
    "                                            'property_type', 'room_type',\n",
    "                                            'amenities', 'price',\n",
    "                                            'minimum_nights',\n",
    "                                            'maximum_nights',\n",
    "                                            'has_availability',\n",
    "                                            'availability_365',\n",
    "                                            'number_of_reviews',\n",
    "                                            'number_of_reviews_ltm',\n",
    "                                            'review_scores_rating',\n",
    "                                            'review_scores_accuracy',\n",
    "                                            'review_scores_cleanliness',\n",
    "                                            'review_scores_checkin',\n",
    "                                            'review_scores_communication',\n",
    "                                            'review_scores_location',\n",
    "                                            'review_scores_value',\n",
    "                                            'instant_bookable', 'id', 'name',\n",
    "                                            'host_id', 'host_name',\n",
    "                                            'host_listings_count',\n",
    "                                            'accommodates', 'bathrooms',\n",
    "                                            'bedrooms', 'beds']]"
   ]
  },
  {
   "cell_type": "code",
   "execution_count": 130,
   "metadata": {},
   "outputs": [],
   "source": [
    "# Cleaning Data\n",
    "\n",
    "# Price Column - Removing Special Characters\n",
    "df_listings1_Seattle['price'] = df_listings1_Seattle['price'].str.replace('$','')\n",
    "df_listings1_Seattle['price'] = df_listings1_Seattle['price'].str.replace(',','')\n",
    "df_listings1_Seattle['price'] = df_listings1_Seattle['price'].str.replace('.00','')\n",
    "df_listings1_Seattle['price'] = pd.to_numeric(df_listings1_Seattle['price'])"
   ]
  },
  {
   "cell_type": "code",
   "execution_count": 131,
   "metadata": {},
   "outputs": [],
   "source": [
    "# host_response_rate and host_acceptance_rate - Removing % sign\n",
    "df_listings1_Seattle['host_response_rate'] = df_listings1_Seattle['host_response_rate'].str.replace('%','')\n",
    "df_listings1_Seattle['host_response_rate'] = pd.to_numeric(df_listings1_Seattle['host_response_rate'])\n",
    "df_listings1_Seattle['host_acceptance_rate'] = df_listings1_Seattle['host_acceptance_rate'].str.replace('%','')\n",
    "df_listings1_Seattle['host_acceptance_rate'] = pd.to_numeric(df_listings1_Seattle['host_acceptance_rate'])"
   ]
  },
  {
   "cell_type": "code",
   "execution_count": 132,
   "metadata": {},
   "outputs": [],
   "source": [
    "# Boolean Columns\n",
    "d = {'t': True, 'f': False}\n",
    "df_listings1_Seattle['host_is_superhost'] = df_listings1_Seattle['host_is_superhost'].map(d)\n",
    "df_listings1_Seattle['has_availability'] = df_listings1_Seattle['has_availability'].map(d)\n",
    "df_listings1_Seattle['instant_bookable'] = df_listings1_Seattle['instant_bookable'].map(d)"
   ]
  },
  {
   "cell_type": "markdown",
   "metadata": {},
   "source": [
    "**Creating Calculated column Host Experience from Host Since Column**"
   ]
  },
  {
   "cell_type": "code",
   "execution_count": 133,
   "metadata": {},
   "outputs": [],
   "source": [
    "df_listings1_Seattle['host_since'] = pd.to_datetime(df_listings1_Seattle['host_since'])\n",
    "df_listings1_Seattle['today'] = '2021-04-30'\n",
    "df_listings1_Seattle['today'] = pd.to_datetime(df_listings1_Seattle['today'])\n",
    "\n",
    "df_listings1_Seattle['HostExperience'] = df_listings1_Seattle['today'] - df_listings1_Seattle['host_since']\n",
    "df_listings1_Seattle['HostExperience'] = df_listings1_Seattle['HostExperience']/np.timedelta64(1,'Y')\n",
    "df_listings1_Seattle.drop(['host_since','today'], axis = 1, inplace = True)"
   ]
  },
  {
   "cell_type": "markdown",
   "metadata": {},
   "source": [
    "**Dropping NA from Price Columns**"
   ]
  },
  {
   "cell_type": "code",
   "execution_count": 134,
   "metadata": {},
   "outputs": [],
   "source": [
    "df_listings1_Seattle.dropna(subset = ['price'], inplace = True)"
   ]
  },
  {
   "cell_type": "code",
   "execution_count": 135,
   "metadata": {},
   "outputs": [
    {
     "data": {
      "text/html": [
       "<div>\n",
       "<style scoped>\n",
       "    .dataframe tbody tr th:only-of-type {\n",
       "        vertical-align: middle;\n",
       "    }\n",
       "\n",
       "    .dataframe tbody tr th {\n",
       "        vertical-align: top;\n",
       "    }\n",
       "\n",
       "    .dataframe thead th {\n",
       "        text-align: right;\n",
       "    }\n",
       "</style>\n",
       "<table border=\"1\" class=\"dataframe\">\n",
       "  <thead>\n",
       "    <tr style=\"text-align: right;\">\n",
       "      <th></th>\n",
       "      <th>host_response_rate</th>\n",
       "      <th>host_acceptance_rate</th>\n",
       "      <th>latitude</th>\n",
       "      <th>longitude</th>\n",
       "      <th>price</th>\n",
       "      <th>minimum_nights</th>\n",
       "      <th>maximum_nights</th>\n",
       "      <th>availability_365</th>\n",
       "      <th>number_of_reviews</th>\n",
       "      <th>number_of_reviews_ltm</th>\n",
       "      <th>...</th>\n",
       "      <th>review_scores_location</th>\n",
       "      <th>review_scores_value</th>\n",
       "      <th>id</th>\n",
       "      <th>host_id</th>\n",
       "      <th>host_listings_count</th>\n",
       "      <th>accommodates</th>\n",
       "      <th>bathrooms</th>\n",
       "      <th>bedrooms</th>\n",
       "      <th>beds</th>\n",
       "      <th>HostExperience</th>\n",
       "    </tr>\n",
       "  </thead>\n",
       "  <tbody>\n",
       "    <tr>\n",
       "      <th>count</th>\n",
       "      <td>3332.000000</td>\n",
       "      <td>3401.000000</td>\n",
       "      <td>4053.000000</td>\n",
       "      <td>4053.000000</td>\n",
       "      <td>4053.000000</td>\n",
       "      <td>4053.000000</td>\n",
       "      <td>4053.000000</td>\n",
       "      <td>4053.000000</td>\n",
       "      <td>4053.000000</td>\n",
       "      <td>4053.000000</td>\n",
       "      <td>...</td>\n",
       "      <td>3310.000000</td>\n",
       "      <td>3310.000000</td>\n",
       "      <td>4.053000e+03</td>\n",
       "      <td>4.053000e+03</td>\n",
       "      <td>3865.000000</td>\n",
       "      <td>4053.000000</td>\n",
       "      <td>0.0</td>\n",
       "      <td>3496.000000</td>\n",
       "      <td>4017.000000</td>\n",
       "      <td>3865.000000</td>\n",
       "    </tr>\n",
       "    <tr>\n",
       "      <th>mean</th>\n",
       "      <td>94.855942</td>\n",
       "      <td>90.425169</td>\n",
       "      <td>47.624988</td>\n",
       "      <td>-122.334240</td>\n",
       "      <td>130.094991</td>\n",
       "      <td>15.759191</td>\n",
       "      <td>589.679003</td>\n",
       "      <td>168.831236</td>\n",
       "      <td>62.180854</td>\n",
       "      <td>8.278806</td>\n",
       "      <td>...</td>\n",
       "      <td>9.831118</td>\n",
       "      <td>9.513293</td>\n",
       "      <td>2.791894e+07</td>\n",
       "      <td>8.303172e+07</td>\n",
       "      <td>130.769211</td>\n",
       "      <td>3.672835</td>\n",
       "      <td>NaN</td>\n",
       "      <td>1.572941</td>\n",
       "      <td>1.888225</td>\n",
       "      <td>5.713024</td>\n",
       "    </tr>\n",
       "    <tr>\n",
       "      <th>std</th>\n",
       "      <td>15.494868</td>\n",
       "      <td>20.245793</td>\n",
       "      <td>0.046951</td>\n",
       "      <td>0.032946</td>\n",
       "      <td>111.290248</td>\n",
       "      <td>19.243856</td>\n",
       "      <td>526.294662</td>\n",
       "      <td>127.492636</td>\n",
       "      <td>91.867509</td>\n",
       "      <td>14.338963</td>\n",
       "      <td>...</td>\n",
       "      <td>0.494330</td>\n",
       "      <td>0.859926</td>\n",
       "      <td>1.524184e+07</td>\n",
       "      <td>1.007011e+08</td>\n",
       "      <td>362.373919</td>\n",
       "      <td>2.309161</td>\n",
       "      <td>NaN</td>\n",
       "      <td>0.916453</td>\n",
       "      <td>1.377358</td>\n",
       "      <td>2.497311</td>\n",
       "    </tr>\n",
       "    <tr>\n",
       "      <th>min</th>\n",
       "      <td>0.000000</td>\n",
       "      <td>0.000000</td>\n",
       "      <td>47.496210</td>\n",
       "      <td>-122.418760</td>\n",
       "      <td>0.000000</td>\n",
       "      <td>1.000000</td>\n",
       "      <td>3.000000</td>\n",
       "      <td>0.000000</td>\n",
       "      <td>0.000000</td>\n",
       "      <td>0.000000</td>\n",
       "      <td>...</td>\n",
       "      <td>2.000000</td>\n",
       "      <td>2.000000</td>\n",
       "      <td>2.318000e+03</td>\n",
       "      <td>2.536000e+03</td>\n",
       "      <td>0.000000</td>\n",
       "      <td>0.000000</td>\n",
       "      <td>NaN</td>\n",
       "      <td>1.000000</td>\n",
       "      <td>0.000000</td>\n",
       "      <td>0.150585</td>\n",
       "    </tr>\n",
       "    <tr>\n",
       "      <th>25%</th>\n",
       "      <td>96.000000</td>\n",
       "      <td>91.000000</td>\n",
       "      <td>47.604890</td>\n",
       "      <td>-122.355530</td>\n",
       "      <td>76.000000</td>\n",
       "      <td>2.000000</td>\n",
       "      <td>45.000000</td>\n",
       "      <td>53.000000</td>\n",
       "      <td>2.000000</td>\n",
       "      <td>0.000000</td>\n",
       "      <td>...</td>\n",
       "      <td>10.000000</td>\n",
       "      <td>9.000000</td>\n",
       "      <td>1.528874e+07</td>\n",
       "      <td>8.616799e+06</td>\n",
       "      <td>1.000000</td>\n",
       "      <td>2.000000</td>\n",
       "      <td>NaN</td>\n",
       "      <td>1.000000</td>\n",
       "      <td>1.000000</td>\n",
       "      <td>4.197211</td>\n",
       "    </tr>\n",
       "    <tr>\n",
       "      <th>50%</th>\n",
       "      <td>100.000000</td>\n",
       "      <td>98.000000</td>\n",
       "      <td>47.621250</td>\n",
       "      <td>-122.334130</td>\n",
       "      <td>107.000000</td>\n",
       "      <td>4.000000</td>\n",
       "      <td>365.000000</td>\n",
       "      <td>152.000000</td>\n",
       "      <td>23.000000</td>\n",
       "      <td>2.000000</td>\n",
       "      <td>...</td>\n",
       "      <td>10.000000</td>\n",
       "      <td>10.000000</td>\n",
       "      <td>2.869362e+07</td>\n",
       "      <td>3.983446e+07</td>\n",
       "      <td>2.000000</td>\n",
       "      <td>3.000000</td>\n",
       "      <td>NaN</td>\n",
       "      <td>1.000000</td>\n",
       "      <td>1.000000</td>\n",
       "      <td>5.790673</td>\n",
       "    </tr>\n",
       "    <tr>\n",
       "      <th>75%</th>\n",
       "      <td>100.000000</td>\n",
       "      <td>100.000000</td>\n",
       "      <td>47.660180</td>\n",
       "      <td>-122.310950</td>\n",
       "      <td>150.000000</td>\n",
       "      <td>30.000000</td>\n",
       "      <td>1125.000000</td>\n",
       "      <td>291.000000</td>\n",
       "      <td>85.000000</td>\n",
       "      <td>10.000000</td>\n",
       "      <td>...</td>\n",
       "      <td>10.000000</td>\n",
       "      <td>10.000000</td>\n",
       "      <td>4.278666e+07</td>\n",
       "      <td>1.167402e+08</td>\n",
       "      <td>10.000000</td>\n",
       "      <td>4.000000</td>\n",
       "      <td>NaN</td>\n",
       "      <td>2.000000</td>\n",
       "      <td>2.000000</td>\n",
       "      <td>7.652450</td>\n",
       "    </tr>\n",
       "    <tr>\n",
       "      <th>max</th>\n",
       "      <td>100.000000</td>\n",
       "      <td>100.000000</td>\n",
       "      <td>47.733990</td>\n",
       "      <td>-122.241980</td>\n",
       "      <td>3858.000000</td>\n",
       "      <td>365.000000</td>\n",
       "      <td>10000.000000</td>\n",
       "      <td>365.000000</td>\n",
       "      <td>978.000000</td>\n",
       "      <td>142.000000</td>\n",
       "      <td>...</td>\n",
       "      <td>10.000000</td>\n",
       "      <td>10.000000</td>\n",
       "      <td>4.872752e+07</td>\n",
       "      <td>3.913442e+08</td>\n",
       "      <td>1435.000000</td>\n",
       "      <td>16.000000</td>\n",
       "      <td>NaN</td>\n",
       "      <td>7.000000</td>\n",
       "      <td>15.000000</td>\n",
       "      <td>12.676509</td>\n",
       "    </tr>\n",
       "  </tbody>\n",
       "</table>\n",
       "<p>8 rows × 25 columns</p>\n",
       "</div>"
      ],
      "text/plain": [
       "       host_response_rate  host_acceptance_rate     latitude    longitude  \\\n",
       "count         3332.000000           3401.000000  4053.000000  4053.000000   \n",
       "mean            94.855942             90.425169    47.624988  -122.334240   \n",
       "std             15.494868             20.245793     0.046951     0.032946   \n",
       "min              0.000000              0.000000    47.496210  -122.418760   \n",
       "25%             96.000000             91.000000    47.604890  -122.355530   \n",
       "50%            100.000000             98.000000    47.621250  -122.334130   \n",
       "75%            100.000000            100.000000    47.660180  -122.310950   \n",
       "max            100.000000            100.000000    47.733990  -122.241980   \n",
       "\n",
       "             price  minimum_nights  maximum_nights  availability_365  \\\n",
       "count  4053.000000     4053.000000     4053.000000       4053.000000   \n",
       "mean    130.094991       15.759191      589.679003        168.831236   \n",
       "std     111.290248       19.243856      526.294662        127.492636   \n",
       "min       0.000000        1.000000        3.000000          0.000000   \n",
       "25%      76.000000        2.000000       45.000000         53.000000   \n",
       "50%     107.000000        4.000000      365.000000        152.000000   \n",
       "75%     150.000000       30.000000     1125.000000        291.000000   \n",
       "max    3858.000000      365.000000    10000.000000        365.000000   \n",
       "\n",
       "       number_of_reviews  number_of_reviews_ltm  ...  review_scores_location  \\\n",
       "count        4053.000000            4053.000000  ...             3310.000000   \n",
       "mean           62.180854               8.278806  ...                9.831118   \n",
       "std            91.867509              14.338963  ...                0.494330   \n",
       "min             0.000000               0.000000  ...                2.000000   \n",
       "25%             2.000000               0.000000  ...               10.000000   \n",
       "50%            23.000000               2.000000  ...               10.000000   \n",
       "75%            85.000000              10.000000  ...               10.000000   \n",
       "max           978.000000             142.000000  ...               10.000000   \n",
       "\n",
       "       review_scores_value            id       host_id  host_listings_count  \\\n",
       "count          3310.000000  4.053000e+03  4.053000e+03          3865.000000   \n",
       "mean              9.513293  2.791894e+07  8.303172e+07           130.769211   \n",
       "std               0.859926  1.524184e+07  1.007011e+08           362.373919   \n",
       "min               2.000000  2.318000e+03  2.536000e+03             0.000000   \n",
       "25%               9.000000  1.528874e+07  8.616799e+06             1.000000   \n",
       "50%              10.000000  2.869362e+07  3.983446e+07             2.000000   \n",
       "75%              10.000000  4.278666e+07  1.167402e+08            10.000000   \n",
       "max              10.000000  4.872752e+07  3.913442e+08          1435.000000   \n",
       "\n",
       "       accommodates  bathrooms     bedrooms         beds  HostExperience  \n",
       "count   4053.000000        0.0  3496.000000  4017.000000     3865.000000  \n",
       "mean       3.672835        NaN     1.572941     1.888225        5.713024  \n",
       "std        2.309161        NaN     0.916453     1.377358        2.497311  \n",
       "min        0.000000        NaN     1.000000     0.000000        0.150585  \n",
       "25%        2.000000        NaN     1.000000     1.000000        4.197211  \n",
       "50%        3.000000        NaN     1.000000     1.000000        5.790673  \n",
       "75%        4.000000        NaN     2.000000     2.000000        7.652450  \n",
       "max       16.000000        NaN     7.000000    15.000000       12.676509  \n",
       "\n",
       "[8 rows x 25 columns]"
      ]
     },
     "execution_count": 135,
     "metadata": {},
     "output_type": "execute_result"
    }
   ],
   "source": [
    "# Describe Table\n",
    "df_listings1_Seattle.describe()"
   ]
  },
  {
   "cell_type": "code",
   "execution_count": 136,
   "metadata": {},
   "outputs": [
    {
     "data": {
      "text/plain": [
       "host_response_rate              17.789292\n",
       "host_acceptance_rate            16.086849\n",
       "host_is_superhost                4.638539\n",
       "neighbourhood_cleansed           0.000000\n",
       "latitude                         0.000000\n",
       "longitude                        0.000000\n",
       "property_type                    0.000000\n",
       "room_type                        0.000000\n",
       "amenities                        0.000000\n",
       "price                            0.000000\n",
       "minimum_nights                   0.000000\n",
       "maximum_nights                   0.000000\n",
       "has_availability                 0.000000\n",
       "availability_365                 0.000000\n",
       "number_of_reviews                0.000000\n",
       "number_of_reviews_ltm            0.000000\n",
       "review_scores_rating            17.369849\n",
       "review_scores_accuracy          18.332100\n",
       "review_scores_cleanliness       18.332100\n",
       "review_scores_checkin           18.332100\n",
       "review_scores_communication     18.332100\n",
       "review_scores_location          18.332100\n",
       "review_scores_value             18.332100\n",
       "instant_bookable                 0.000000\n",
       "id                               0.000000\n",
       "name                             0.000000\n",
       "host_id                          0.000000\n",
       "host_name                        4.638539\n",
       "host_listings_count              4.638539\n",
       "accommodates                     0.000000\n",
       "bathrooms                      100.000000\n",
       "bedrooms                        13.742906\n",
       "beds                             0.888231\n",
       "HostExperience                   4.638539\n",
       "dtype: float64"
      ]
     },
     "execution_count": 136,
     "metadata": {},
     "output_type": "execute_result"
    }
   ],
   "source": [
    "# Missing Values\n",
    "df_listings1_Seattle.isna().mean() * 100"
   ]
  },
  {
   "cell_type": "code",
   "execution_count": 137,
   "metadata": {},
   "outputs": [],
   "source": [
    "# Dropping Bathroom as approx 100% values are missing\n",
    "df_listings1_Seattle.drop(['bathrooms'], axis = 1, inplace = True)"
   ]
  },
  {
   "cell_type": "markdown",
   "metadata": {},
   "source": [
    "**Combining Boston and Seattle Data Frame**"
   ]
  },
  {
   "cell_type": "code",
   "execution_count": 138,
   "metadata": {},
   "outputs": [],
   "source": [
    "df_listings1_boston['City'] = 'Boston'\n",
    "df_listings1_Seattle['City'] = 'Seattle'\n",
    "\n",
    "df_combine = df_listings1_boston.append(df_listings1_Seattle)"
   ]
  },
  {
   "cell_type": "markdown",
   "metadata": {},
   "source": [
    "**Removing Outliers using IQR Methods**"
   ]
  },
  {
   "cell_type": "code",
   "execution_count": 139,
   "metadata": {},
   "outputs": [
    {
     "name": "stdout",
     "output_type": "stream",
     "text": [
      "91.0 0 423.0\n",
      "7040 Total Items\n",
      "6859 Selected Items\n",
      "0.9742897727272727 Percentage Selected Items\n"
     ]
    }
   ],
   "source": [
    "# removing outliers\n",
    "Q1 = df_combine['price'].quantile(0.25)\n",
    "Q3 = df_combine['price'].quantile(0.75)\n",
    "IQR = Q3 - Q1\n",
    "LR = IQR - 2*Q1\n",
    "UR = IQR + 2*Q3\n",
    "\n",
    "if LR < 0:\n",
    "    LR = 0\n",
    "\n",
    "print(IQR, LR, UR)\n",
    "print(len(df_combine['price']),\"Total Items\")\n",
    "print(len(df_combine['price'].loc[(df_combine['price'] > LR) & (df_combine['price'] < UR)]),\"Selected Items\")\n",
    "print(len(df_combine['price'].loc[(df_combine['price'] > LR) & (df_combine['price'] < UR)]) / len(df_combine['price']),\"Percentage Selected Items\")\n",
    "\n",
    "df_combine_all = df_combine.loc[(df_combine['price'] > LR) & (df_combine['price'] < UR)]\n"
   ]
  },
  {
   "cell_type": "markdown",
   "metadata": {},
   "source": [
    "## Exploratory Data Analysis ##"
   ]
  },
  {
   "cell_type": "code",
   "execution_count": 140,
   "metadata": {},
   "outputs": [
    {
     "data": {
      "text/plain": [
       "<matplotlib.axes._subplots.AxesSubplot at 0x1d73b03ffd0>"
      ]
     },
     "execution_count": 140,
     "metadata": {},
     "output_type": "execute_result"
    },
    {
     "data": {
      "text/plain": [
       "<matplotlib.axes._subplots.AxesSubplot at 0x1d73b03ffd0>"
      ]
     },
     "execution_count": 140,
     "metadata": {},
     "output_type": "execute_result"
    },
    {
     "data": {
      "text/plain": [
       "<matplotlib.legend.Legend at 0x1d75050b518>"
      ]
     },
     "execution_count": 140,
     "metadata": {},
     "output_type": "execute_result"
    },
    {
     "data": {
      "text/plain": [
       "Text(0.5, 1.0, 'Price distribution for Boston & Seattle')"
      ]
     },
     "execution_count": 140,
     "metadata": {},
     "output_type": "execute_result"
    },
    {
     "data": {
      "text/plain": [
       "Text(0.5, 0, 'Price($)')"
      ]
     },
     "execution_count": 140,
     "metadata": {},
     "output_type": "execute_result"
    },
    {
     "data": {
      "text/plain": [
       "Text(0, 0.5, 'Density')"
      ]
     },
     "execution_count": 140,
     "metadata": {},
     "output_type": "execute_result"
    },
    {
     "data": {
      "image/png": "[encoded data removed]",
      "text/plain": [
       "<Figure size 432x288 with 1 Axes>"
      ]
     },
     "metadata": {
      "needs_background": "light"
     },
     "output_type": "display_data"
    }
   ],
   "source": [
    "kwargs = dict(hist_kws={'alpha': .6}, kde_kws={'linewidth': 2})\n",
    "sns.distplot(df_combine_all['price'].loc[(df_combine_all['City'] == 'Boston')],label='Boston',**kwargs)\n",
    "sns.distplot(df_combine_all['price'].loc[(df_combine_all['City'] == 'Seattle')],label='Seattle',**kwargs)\n",
    "plt.legend()\n",
    "plt.title('Price distribution for Boston & Seattle')\n",
    "plt.xlabel(\"Price($)\")\n",
    "plt.ylabel(\"Density\")"
   ]
  },
  {
   "cell_type": "code",
   "execution_count": 141,
   "metadata": {},
   "outputs": [
    {
     "data": {
      "text/plain": [
       "<Figure size 360x360 with 0 Axes>"
      ]
     },
     "execution_count": 141,
     "metadata": {},
     "output_type": "execute_result"
    },
    {
     "data": {
      "text/plain": [
       "<matplotlib.axes._subplots.AxesSubplot at 0x1d73d1f5208>"
      ]
     },
     "execution_count": 141,
     "metadata": {},
     "output_type": "execute_result"
    },
    {
     "data": {
      "text/plain": [
       "Text(0.5, 1.0, 'Price stats for Boston & Seattle')"
      ]
     },
     "execution_count": 141,
     "metadata": {},
     "output_type": "execute_result"
    },
    {
     "data": {
      "text/plain": [
       "Text(0.5, 0, 'City')"
      ]
     },
     "execution_count": 141,
     "metadata": {},
     "output_type": "execute_result"
    },
    {
     "data": {
      "text/plain": [
       "Text(0, 0.5, 'Price($)')"
      ]
     },
     "execution_count": 141,
     "metadata": {},
     "output_type": "execute_result"
    },
    {
     "data": {
      "image/png": "[encoded data removed]",
      "text/plain": [
       "<Figure size 360x360 with 1 Axes>"
      ]
     },
     "metadata": {
      "needs_background": "light"
     },
     "output_type": "display_data"
    }
   ],
   "source": [
    "# Box Plot\n",
    "plt.figure(figsize = (5,5))\n",
    "sns.boxplot(x=df_combine_all.City, y =df_combine_all.price, data = df_combine_all, showfliers = False)\n",
    "plt.title('Price stats for Boston & Seattle')\n",
    "plt.xlabel(\"City\")\n",
    "plt.ylabel(\"Price($)\")\n",
    "plt.show()\n"
   ]
  },
  {
   "cell_type": "markdown",
   "metadata": {},
   "source": [
    "*Dispersion for Boston City is Highest*"
   ]
  },
  {
   "cell_type": "code",
   "execution_count": 142,
   "metadata": {},
   "outputs": [
    {
     "data": {
      "text/html": [
       "<div>\n",
       "<style scoped>\n",
       "    .dataframe tbody tr th:only-of-type {\n",
       "        vertical-align: middle;\n",
       "    }\n",
       "\n",
       "    .dataframe tbody tr th {\n",
       "        vertical-align: top;\n",
       "    }\n",
       "\n",
       "    .dataframe thead tr th {\n",
       "        text-align: left;\n",
       "    }\n",
       "</style>\n",
       "<table border=\"1\" class=\"dataframe\">\n",
       "  <thead>\n",
       "    <tr>\n",
       "      <th></th>\n",
       "      <th>Seattle</th>\n",
       "      <th>Boston</th>\n",
       "    </tr>\n",
       "    <tr>\n",
       "      <th></th>\n",
       "      <th>price</th>\n",
       "      <th>price</th>\n",
       "    </tr>\n",
       "  </thead>\n",
       "  <tbody>\n",
       "    <tr>\n",
       "      <th>count</th>\n",
       "      <td>3973.000000</td>\n",
       "      <td>2886.000000</td>\n",
       "    </tr>\n",
       "    <tr>\n",
       "      <th>mean</th>\n",
       "      <td>120.402718</td>\n",
       "      <td>133.242550</td>\n",
       "    </tr>\n",
       "    <tr>\n",
       "      <th>std</th>\n",
       "      <td>66.928878</td>\n",
       "      <td>78.492403</td>\n",
       "    </tr>\n",
       "    <tr>\n",
       "      <th>min</th>\n",
       "      <td>1.000000</td>\n",
       "      <td>1.000000</td>\n",
       "    </tr>\n",
       "    <tr>\n",
       "      <th>25%</th>\n",
       "      <td>75.000000</td>\n",
       "      <td>70.000000</td>\n",
       "    </tr>\n",
       "    <tr>\n",
       "      <th>50%</th>\n",
       "      <td>105.000000</td>\n",
       "      <td>120.000000</td>\n",
       "    </tr>\n",
       "    <tr>\n",
       "      <th>75%</th>\n",
       "      <td>149.000000</td>\n",
       "      <td>178.000000</td>\n",
       "    </tr>\n",
       "    <tr>\n",
       "      <th>max</th>\n",
       "      <td>421.000000</td>\n",
       "      <td>416.000000</td>\n",
       "    </tr>\n",
       "  </tbody>\n",
       "</table>\n",
       "</div>"
      ],
      "text/plain": [
       "           Seattle       Boston\n",
       "             price        price\n",
       "count  3973.000000  2886.000000\n",
       "mean    120.402718   133.242550\n",
       "std      66.928878    78.492403\n",
       "min       1.000000     1.000000\n",
       "25%      75.000000    70.000000\n",
       "50%     105.000000   120.000000\n",
       "75%     149.000000   178.000000\n",
       "max     421.000000   416.000000"
      ]
     },
     "execution_count": 142,
     "metadata": {},
     "output_type": "execute_result"
    }
   ],
   "source": [
    "# Tabular Data for both cities\n",
    "b = pd.DataFrame(df_combine_all['price'].loc[(df_combine_all['City'] == 'Boston')].describe())\n",
    "a = pd.DataFrame(df_combine_all['price'].loc[(df_combine_all['City'] == 'Seattle')].describe())\n",
    "\n",
    "price_comp = pd.concat([a,b], axis = 1,keys = ['Seattle','Boston'])\n",
    "price_comp"
   ]
  },
  {
   "cell_type": "code",
   "execution_count": 143,
   "metadata": {},
   "outputs": [
    {
     "data": {
      "text/plain": [
       "Text(0.5, 1.0, 'Avg Price Room Type Wise for Boston & Seattle')"
      ]
     },
     "execution_count": 143,
     "metadata": {},
     "output_type": "execute_result"
    },
    {
     "data": {
      "text/plain": [
       "Text(0.5, 0, 'Room Type')"
      ]
     },
     "execution_count": 143,
     "metadata": {},
     "output_type": "execute_result"
    },
    {
     "data": {
      "text/plain": [
       "Text(0, 0.5, 'Avg Price($)')"
      ]
     },
     "execution_count": 143,
     "metadata": {},
     "output_type": "execute_result"
    },
    {
     "data": {
      "text/plain": [
       "Text(0, 5, '170')"
      ]
     },
     "execution_count": 143,
     "metadata": {},
     "output_type": "execute_result"
    },
    {
     "data": {
      "text/plain": [
       "Text(0, 5, '163')"
      ]
     },
     "execution_count": 143,
     "metadata": {},
     "output_type": "execute_result"
    },
    {
     "data": {
      "text/plain": [
       "Text(0, 5, '72')"
      ]
     },
     "execution_count": 143,
     "metadata": {},
     "output_type": "execute_result"
    },
    {
     "data": {
      "text/plain": [
       "Text(0, 5, '61')"
      ]
     },
     "execution_count": 143,
     "metadata": {},
     "output_type": "execute_result"
    },
    {
     "data": {
      "text/plain": [
       "Text(0, 5, '134')"
      ]
     },
     "execution_count": 143,
     "metadata": {},
     "output_type": "execute_result"
    },
    {
     "data": {
      "text/plain": [
       "Text(0, 5, '134')"
      ]
     },
     "execution_count": 143,
     "metadata": {},
     "output_type": "execute_result"
    },
    {
     "data": {
      "text/plain": [
       "Text(0, 5, '67')"
      ]
     },
     "execution_count": 143,
     "metadata": {},
     "output_type": "execute_result"
    },
    {
     "data": {
      "text/plain": [
       "Text(0, 5, '29')"
      ]
     },
     "execution_count": 143,
     "metadata": {},
     "output_type": "execute_result"
    },
    {
     "data": {
      "image/png": "[encoded data removed]",
      "text/plain": [
       "<Figure size 432x288 with 1 Axes>"
      ]
     },
     "metadata": {
      "needs_background": "light"
     },
     "output_type": "display_data"
    }
   ],
   "source": [
    "\n",
    "def avg_bol(x):\n",
    "    '''\n",
    "    This function will return average for boolean column\n",
    "    \n",
    "    INPUT: x: Boolean Column\n",
    "    \n",
    "    OUTPUT: Avg of Bolean Column   \n",
    "    \n",
    "    '''\n",
    "    tot = len(x)\n",
    "    sum1 = 0\n",
    "    for i in x:\n",
    "        if i is True:\n",
    "            sum1 = sum1 + 1 \n",
    "    return (sum1/tot)\n",
    "\n",
    "\n",
    "def availabilty_365_per(x):\n",
    "    '''\n",
    "    This function will return average availabilty for next 365 days \n",
    "    \n",
    "    INPUT: x: days available for next 365 days\n",
    "    \n",
    "    OUTPUT: Average availabilty for next 365 days  \n",
    "    \n",
    "    '''\n",
    "    ct = len(x)\n",
    "    su = sum(x)\n",
    "    rt = su / (ct * 365)\n",
    "    return rt\n",
    "\n",
    "Grp1 = df_combine_all.groupby(['City','room_type'],as_index=False).agg({\n",
    "    'id': 'count',\n",
    "    'price': 'mean',\n",
    "    'host_response_rate': 'mean',\n",
    "    'host_acceptance_rate': 'mean',\n",
    "    'host_is_superhost': avg_bol,\n",
    "    'has_availability': avg_bol,\n",
    "    'availability_365': availabilty_365_per,\n",
    "    'number_of_reviews': ['mean', 'sum'],\n",
    "    'number_of_reviews_ltm': 'mean',\n",
    "    'review_scores_rating': 'mean',\n",
    "    'review_scores_accuracy': 'mean',\n",
    "    'review_scores_cleanliness': 'mean',\n",
    "    'review_scores_checkin': 'mean',\n",
    "    'review_scores_communication': 'mean',\n",
    "    'review_scores_location': 'mean',\n",
    "    'review_scores_value': 'mean',\n",
    "    'instant_bookable': avg_bol,\n",
    "    'HostExperience': 'mean',\n",
    "    }).round(2)\n",
    "\n",
    "Grp1.columns = ['City',\n",
    "                'room_type',\n",
    "                'Property Count',\n",
    "                'Avg Price',\n",
    "                'Avg_host_response_rate',\n",
    "                'Avg_host_acceptance_rate',\n",
    "                'Per_Super Host Property',\n",
    "                'Per Available Prop',\n",
    "                'Inventory 365',\n",
    "                'Avg Review Ct Per Property',\n",
    "                'Total Reviews',\n",
    "                'Avg Review LTM Ct Per Property',\n",
    "                'Avg review_scores_rating',\n",
    "                'Avg review_scores_accuracy',\n",
    "                'Avg review_scores_cleanliness',\n",
    "                'Avg review_scores_checkin',\n",
    "                'Avg review_scores_communication',\n",
    "                'Avg review_scores_location',\n",
    "                'Avg review_scores_value',\n",
    "                'Per Instant Book Property',\n",
    "                'Avg Host exp (in Yrs)'\n",
    "                ]\n",
    "\n",
    "chart = sns.barplot(x=\"room_type\", y=\"Avg Price\", hue = 'City', data=Grp1)\n",
    "plt.title('Avg Price Room Type Wise for Boston & Seattle')\n",
    "plt.xlabel(\"Room Type\")\n",
    "plt.ylabel(\"Avg Price($)\")\n",
    "\n",
    "# label points on the plot\n",
    "for p in chart.patches:\n",
    "    chart.annotate(\"%.0f\" % p.get_height(), (p.get_x() + p.get_width() / 2.,\n",
    "                                             p.get_height()), ha='center',\n",
    "                   va='center', fontsize=8, color='black', xytext=(0, 5),\n",
    "                   textcoords='offset points')\n",
    "plt.show()"
   ]
  },
  {
   "cell_type": "markdown",
   "metadata": {},
   "source": [
    "*1. For Seattle City Avg Price for Entire Apartment and Hotel Room is same, whereas for Boston City there Entire home cost ~5% high price* \n",
    "*2. There is no significant price difference for Private room*"
   ]
  },
  {
   "cell_type": "markdown",
   "metadata": {},
   "source": [
    "**For Property Type , We have created a file that contains grouping**"
   ]
  },
  {
   "cell_type": "code",
   "execution_count": 144,
   "metadata": {},
   "outputs": [
    {
     "data": {
      "text/plain": [
       "Text(0.5, 1.0, 'Avg Price Property Type Wise for Boston')"
      ]
     },
     "execution_count": 144,
     "metadata": {},
     "output_type": "execute_result"
    },
    {
     "data": {
      "text/plain": [
       "Text(0.5, 0, 'Property Type')"
      ]
     },
     "execution_count": 144,
     "metadata": {},
     "output_type": "execute_result"
    },
    {
     "data": {
      "text/plain": [
       "Text(0, 0.5, 'Avg Price($)')"
      ]
     },
     "execution_count": 144,
     "metadata": {},
     "output_type": "execute_result"
    },
    {
     "data": {
      "text/plain": [
       "(array([ 0,  1,  2,  3,  4,  5,  6,  7,  8,  9, 10, 11, 12, 13, 14]),\n",
       " <a list of 15 Text xticklabel objects>)"
      ]
     },
     "execution_count": 144,
     "metadata": {},
     "output_type": "execute_result"
    },
    {
     "data": {
      "text/plain": [
       "Text(0, 5, '143')"
      ]
     },
     "execution_count": 144,
     "metadata": {},
     "output_type": "execute_result"
    },
    {
     "data": {
      "text/plain": [
       "Text(0, 5, '122')"
      ]
     },
     "execution_count": 144,
     "metadata": {},
     "output_type": "execute_result"
    },
    {
     "data": {
      "text/plain": [
       "Text(0, 5, '249')"
      ]
     },
     "execution_count": 144,
     "metadata": {},
     "output_type": "execute_result"
    },
    {
     "data": {
      "text/plain": [
       "Text(0, 5, '55')"
      ]
     },
     "execution_count": 144,
     "metadata": {},
     "output_type": "execute_result"
    },
    {
     "data": {
      "text/plain": [
       "Text(0, 5, '125')"
      ]
     },
     "execution_count": 144,
     "metadata": {},
     "output_type": "execute_result"
    },
    {
     "data": {
      "text/plain": [
       "Text(0, 5, '129')"
      ]
     },
     "execution_count": 144,
     "metadata": {},
     "output_type": "execute_result"
    },
    {
     "data": {
      "text/plain": [
       "Text(0, 5, '109')"
      ]
     },
     "execution_count": 144,
     "metadata": {},
     "output_type": "execute_result"
    },
    {
     "data": {
      "text/plain": [
       "Text(0, 5, '162')"
      ]
     },
     "execution_count": 144,
     "metadata": {},
     "output_type": "execute_result"
    },
    {
     "data": {
      "text/plain": [
       "Text(0, 5, '98')"
      ]
     },
     "execution_count": 144,
     "metadata": {},
     "output_type": "execute_result"
    },
    {
     "data": {
      "text/plain": [
       "Text(0, 5, '152')"
      ]
     },
     "execution_count": 144,
     "metadata": {},
     "output_type": "execute_result"
    },
    {
     "data": {
      "text/plain": [
       "Text(0, 5, '64')"
      ]
     },
     "execution_count": 144,
     "metadata": {},
     "output_type": "execute_result"
    },
    {
     "data": {
      "text/plain": [
       "Text(0, 5, '181')"
      ]
     },
     "execution_count": 144,
     "metadata": {},
     "output_type": "execute_result"
    },
    {
     "data": {
      "text/plain": [
       "Text(0, 5, '138')"
      ]
     },
     "execution_count": 144,
     "metadata": {},
     "output_type": "execute_result"
    },
    {
     "data": {
      "text/plain": [
       "Text(0, 5, '130')"
      ]
     },
     "execution_count": 144,
     "metadata": {},
     "output_type": "execute_result"
    },
    {
     "data": {
      "text/plain": [
       "Text(0, 5, '55')"
      ]
     },
     "execution_count": 144,
     "metadata": {},
     "output_type": "execute_result"
    },
    {
     "data": {
      "image/png": "[encoded data removed]",
      "text/plain": [
       "<Figure size 432x288 with 1 Axes>"
      ]
     },
     "metadata": {
      "needs_background": "light"
     },
     "output_type": "display_data"
    },
    {
     "data": {
      "text/plain": [
       "Text(0.5, 1.0, 'Avg Price Property Type Wise for Seattle')"
      ]
     },
     "execution_count": 144,
     "metadata": {},
     "output_type": "execute_result"
    },
    {
     "data": {
      "text/plain": [
       "Text(0.5, 0, 'Property Type')"
      ]
     },
     "execution_count": 144,
     "metadata": {},
     "output_type": "execute_result"
    },
    {
     "data": {
      "text/plain": [
       "Text(0, 0.5, 'Avg Price($)')"
      ]
     },
     "execution_count": 144,
     "metadata": {},
     "output_type": "execute_result"
    },
    {
     "data": {
      "text/plain": [
       "(array([ 0,  1,  2,  3,  4,  5,  6,  7,  8,  9, 10, 11, 12, 13, 14, 15, 16,\n",
       "        17, 18, 19, 20, 21, 22]), <a list of 23 Text xticklabel objects>)"
      ]
     },
     "execution_count": 144,
     "metadata": {},
     "output_type": "execute_result"
    },
    {
     "data": {
      "text/plain": [
       "Text(0, 5, '120')"
      ]
     },
     "execution_count": 144,
     "metadata": {},
     "output_type": "execute_result"
    },
    {
     "data": {
      "text/plain": [
       "Text(0, 5, '75')"
      ]
     },
     "execution_count": 144,
     "metadata": {},
     "output_type": "execute_result"
    },
    {
     "data": {
      "text/plain": [
       "Text(0, 5, '137')"
      ]
     },
     "execution_count": 144,
     "metadata": {},
     "output_type": "execute_result"
    },
    {
     "data": {
      "text/plain": [
       "Text(0, 5, '119')"
      ]
     },
     "execution_count": 144,
     "metadata": {},
     "output_type": "execute_result"
    },
    {
     "data": {
      "text/plain": [
       "Text(0, 5, '137')"
      ]
     },
     "execution_count": 144,
     "metadata": {},
     "output_type": "execute_result"
    },
    {
     "data": {
      "text/plain": [
       "Text(0, 5, '92')"
      ]
     },
     "execution_count": 144,
     "metadata": {},
     "output_type": "execute_result"
    },
    {
     "data": {
      "text/plain": [
       "Text(0, 5, '130')"
      ]
     },
     "execution_count": 144,
     "metadata": {},
     "output_type": "execute_result"
    },
    {
     "data": {
      "text/plain": [
       "Text(0, 5, '124')"
      ]
     },
     "execution_count": 144,
     "metadata": {},
     "output_type": "execute_result"
    },
    {
     "data": {
      "text/plain": [
       "Text(0, 5, '25')"
      ]
     },
     "execution_count": 144,
     "metadata": {},
     "output_type": "execute_result"
    },
    {
     "data": {
      "text/plain": [
       "Text(0, 5, '96')"
      ]
     },
     "execution_count": 144,
     "metadata": {},
     "output_type": "execute_result"
    },
    {
     "data": {
      "text/plain": [
       "Text(0, 5, '96')"
      ]
     },
     "execution_count": 144,
     "metadata": {},
     "output_type": "execute_result"
    },
    {
     "data": {
      "text/plain": [
       "Text(0, 5, '128')"
      ]
     },
     "execution_count": 144,
     "metadata": {},
     "output_type": "execute_result"
    },
    {
     "data": {
      "text/plain": [
       "Text(0, 5, '61')"
      ]
     },
     "execution_count": 144,
     "metadata": {},
     "output_type": "execute_result"
    },
    {
     "data": {
      "text/plain": [
       "Text(0, 5, '136')"
      ]
     },
     "execution_count": 144,
     "metadata": {},
     "output_type": "execute_result"
    },
    {
     "data": {
      "text/plain": [
       "Text(0, 5, '23')"
      ]
     },
     "execution_count": 144,
     "metadata": {},
     "output_type": "execute_result"
    },
    {
     "data": {
      "text/plain": [
       "Text(0, 5, '161')"
      ]
     },
     "execution_count": 144,
     "metadata": {},
     "output_type": "execute_result"
    },
    {
     "data": {
      "text/plain": [
       "Text(0, 5, '118')"
      ]
     },
     "execution_count": 144,
     "metadata": {},
     "output_type": "execute_result"
    },
    {
     "data": {
      "text/plain": [
       "Text(0, 5, '52')"
      ]
     },
     "execution_count": 144,
     "metadata": {},
     "output_type": "execute_result"
    },
    {
     "data": {
      "text/plain": [
       "Text(0, 5, '108')"
      ]
     },
     "execution_count": 144,
     "metadata": {},
     "output_type": "execute_result"
    },
    {
     "data": {
      "text/plain": [
       "Text(0, 5, '78')"
      ]
     },
     "execution_count": 144,
     "metadata": {},
     "output_type": "execute_result"
    },
    {
     "data": {
      "text/plain": [
       "Text(0, 5, '154')"
      ]
     },
     "execution_count": 144,
     "metadata": {},
     "output_type": "execute_result"
    },
    {
     "data": {
      "text/plain": [
       "Text(0, 5, '50')"
      ]
     },
     "execution_count": 144,
     "metadata": {},
     "output_type": "execute_result"
    },
    {
     "data": {
      "text/plain": [
       "Text(0, 5, '139')"
      ]
     },
     "execution_count": 144,
     "metadata": {},
     "output_type": "execute_result"
    },
    {
     "data": {
      "image/png": "[encoded data removed]",
      "text/plain": [
       "<Figure size 432x288 with 1 Axes>"
      ]
     },
     "metadata": {
      "needs_background": "light"
     },
     "output_type": "display_data"
    }
   ],
   "source": [
    "df_prop_map = pd.read_excel(r'PropGroup.xlsx')\n",
    "\n",
    "\n",
    "df_combine_all = df_combine_all.merge(df_prop_map, left_on = 'property_type', right_on = 'proptype', how = 'left')\n",
    "\n",
    "df_combine_all.drop('proptype', axis=1, inplace=True)\n",
    "\n",
    "Grp2 = df_combine_all.groupby(['City', 'propgroup'], as_index=False).agg({\n",
    "    'id': 'count',\n",
    "    'price': 'mean',\n",
    "    'host_response_rate': 'mean',\n",
    "    'host_acceptance_rate': 'mean',\n",
    "    'host_is_superhost': avg_bol,\n",
    "    'has_availability': avg_bol,\n",
    "    'availability_365': availabilty_365_per,\n",
    "    'number_of_reviews': ['mean', 'sum'],\n",
    "    'number_of_reviews_ltm': 'mean',\n",
    "    'review_scores_rating': 'mean',\n",
    "    'review_scores_accuracy': 'mean',\n",
    "    'review_scores_cleanliness': 'mean',\n",
    "    'review_scores_checkin': 'mean',\n",
    "    'review_scores_communication': 'mean',\n",
    "    'review_scores_location': 'mean',\n",
    "    'review_scores_value': 'mean',\n",
    "    'instant_bookable': avg_bol,\n",
    "    'HostExperience': 'mean',\n",
    "    }).round(2)\n",
    "\n",
    "Grp2.columns = ['City',\n",
    "                'Property Type',\n",
    "                'Property Count',\n",
    "                'Avg Price',\n",
    "                'Avg_host_response_rate',\n",
    "                'Avg_host_acceptance_rate',\n",
    "                'Per_Super Host Property',\n",
    "                'Per Available Prop',\n",
    "                'Inventory 365',\n",
    "                'Avg Review Ct Per Property',\n",
    "                'Total Reviews',\n",
    "                'Avg Review LTM Ct Per Property',\n",
    "                'Avg review_scores_rating',\n",
    "                'Avg review_scores_accuracy',\n",
    "                'Avg review_scores_cleanliness',\n",
    "                'Avg review_scores_checkin',\n",
    "                'Avg review_scores_communication',\n",
    "                'Avg review_scores_location',\n",
    "                'Avg review_scores_value',\n",
    "                'Per Instant Book Property',\n",
    "                'Avg Host exp (in Yrs)'\n",
    "                ]\n",
    "\n",
    "chart = sns.barplot(x=\"Property Type\", y=\"Avg Price\", data=Grp2.loc[Grp2['City'] == 'Boston'])\n",
    "plt.title('Avg Price Property Type Wise for Boston')\n",
    "plt.xlabel(\"Property Type\")\n",
    "plt.ylabel(\"Avg Price($)\")\n",
    "plt.xticks(rotation=90)\n",
    "\n",
    "\n",
    "# label points on the plot\n",
    "for p in chart.patches:\n",
    "    chart.annotate(\"%.0f\" % p.get_height(), (p.get_x() + p.get_width() / 2.,\n",
    "                                             p.get_height()), ha='center',\n",
    "                   va='center', fontsize=8, color='black', xytext=(0, 5),\n",
    "                   textcoords='offset points')\n",
    "plt.show()\n",
    "\n",
    "\n",
    "chart = sns.barplot(x=\"Property Type\", y=\"Avg Price\", data=Grp2.loc[Grp2['City'] == 'Seattle'])\n",
    "plt.title('Avg Price Property Type Wise for Seattle')\n",
    "plt.xlabel(\"Property Type\")\n",
    "plt.ylabel(\"Avg Price($)\")\n",
    "plt.xticks(rotation=90)\n",
    "\n",
    "\n",
    "# label points on the plot\n",
    "for p in chart.patches:\n",
    "    chart.annotate(\"%.0f\" % p.get_height(), (p.get_x() + p.get_width() / 2.,\n",
    "                                             p.get_height()), ha='center',\n",
    "                   va='center', fontsize=8, color='black', xytext=(0, 5),\n",
    "                   textcoords='offset points')\n",
    "plt.show()\n"
   ]
  },
  {
   "cell_type": "markdown",
   "metadata": {},
   "source": [
    "*Dispersion on Type of Property is high in seattle compared to Boston*\n",
    "*Top Property type for Boston is Boat (Avg Price 249) and Houseboat for Seattle (Avg Price 161)*"
   ]
  },
  {
   "cell_type": "markdown",
   "metadata": {},
   "source": [
    "**Long Stay vs Short Stay**"
   ]
  },
  {
   "cell_type": "code",
   "execution_count": 145,
   "metadata": {},
   "outputs": [
    {
     "data": {
      "text/plain": [
       "Text(0.5, 1.0, 'Avg Price Stay Type Wise for Boston and Seattle')"
      ]
     },
     "execution_count": 145,
     "metadata": {},
     "output_type": "execute_result"
    },
    {
     "data": {
      "text/plain": [
       "Text(0.5, 0, 'Stay Type')"
      ]
     },
     "execution_count": 145,
     "metadata": {},
     "output_type": "execute_result"
    },
    {
     "data": {
      "text/plain": [
       "Text(0, 0.5, 'Avg Price($)')"
      ]
     },
     "execution_count": 145,
     "metadata": {},
     "output_type": "execute_result"
    },
    {
     "data": {
      "text/plain": [
       "Text(0, 5, '139')"
      ]
     },
     "execution_count": 145,
     "metadata": {},
     "output_type": "execute_result"
    },
    {
     "data": {
      "text/plain": [
       "Text(0, 5, '130')"
      ]
     },
     "execution_count": 145,
     "metadata": {},
     "output_type": "execute_result"
    },
    {
     "data": {
      "text/plain": [
       "Text(0, 5, '122')"
      ]
     },
     "execution_count": 145,
     "metadata": {},
     "output_type": "execute_result"
    },
    {
     "data": {
      "text/plain": [
       "Text(0, 5, '119')"
      ]
     },
     "execution_count": 145,
     "metadata": {},
     "output_type": "execute_result"
    },
    {
     "data": {
      "image/png": "[encoded data removed]",
      "text/plain": [
       "<Figure size 432x288 with 1 Axes>"
      ]
     },
     "metadata": {
      "needs_background": "light"
     },
     "output_type": "display_data"
    }
   ],
   "source": [
    "bins = [0,7,np.inf]\n",
    "names = ['Short Stay', 'Long Stay']\n",
    "\n",
    "df_combine_all['stay_type_property'] = pd.cut(df_combine_all['minimum_nights'], bins, labels=names)\n",
    "\n",
    "\n",
    "\n",
    "Grp3 = df_combine_all.groupby(['City','stay_type_property'],as_index=False).agg({\n",
    "    'id': 'count',\n",
    "    'price': 'mean',\n",
    "    'host_response_rate': 'mean',\n",
    "    'host_acceptance_rate': 'mean',\n",
    "    'host_is_superhost': avg_bol,\n",
    "    'has_availability': avg_bol,\n",
    "    'availability_365': availabilty_365_per,\n",
    "    'number_of_reviews': ['mean', 'sum'],\n",
    "    'number_of_reviews_ltm': 'mean',\n",
    "    'review_scores_rating': 'mean',\n",
    "    'review_scores_accuracy': 'mean',\n",
    "    'review_scores_cleanliness': 'mean',\n",
    "    'review_scores_checkin': 'mean',\n",
    "    'review_scores_communication': 'mean',\n",
    "    'review_scores_location': 'mean',\n",
    "    'review_scores_value': 'mean',\n",
    "    'instant_bookable': avg_bol,\n",
    "    'HostExperience': 'mean',\n",
    "    }).round(2)\n",
    "\n",
    "Grp3.columns = ['City',\n",
    "                'Stay Type',\n",
    "                'Property Count',\n",
    "                'Avg Price',\n",
    "                'Avg_host_response_rate',\n",
    "                'Avg_host_acceptance_rate',\n",
    "                'Per_Super Host Property',\n",
    "                'Per Available Prop',\n",
    "                'Inventory 365',\n",
    "                'Avg Review Ct Per Property',\n",
    "                'Total Reviews',\n",
    "                'Avg Review LTM Ct Per Property',\n",
    "                'Avg review_scores_rating',\n",
    "                'Avg review_scores_accuracy',\n",
    "                'Avg review_scores_cleanliness',\n",
    "                'Avg review_scores_checkin',\n",
    "                'Avg review_scores_communication',\n",
    "                'Avg review_scores_location',\n",
    "                'Avg review_scores_value',\n",
    "                'Per Instant Book Property',\n",
    "                'Avg Host exp (in Yrs)'\n",
    "                ]\n",
    "\n",
    "chart = sns.barplot(x=\"Stay Type\", y=\"Avg Price\" , hue = 'City', data=Grp3)\n",
    "plt.title('Avg Price Stay Type Wise for Boston and Seattle')\n",
    "plt.xlabel(\"Stay Type\")\n",
    "plt.ylabel(\"Avg Price($)\")\n",
    "\n",
    "# label points on the plot\n",
    "for p in chart.patches:\n",
    "    chart.annotate(\"%.0f\" % p.get_height(), (p.get_x() + p.get_width() / 2.,\n",
    "                                             p.get_height()), ha='center',\n",
    "                   va='center', fontsize=8, color='black', xytext=(0, 5),\n",
    "                   textcoords='offset points')\n",
    "plt.show()"
   ]
  },
  {
   "cell_type": "markdown",
   "metadata": {},
   "source": [
    "*Gap between the prices for Long Stay vs Short Stay (Less than 7 Nights) is more in Boston are compara more cheaper than Seattle**"
   ]
  },
  {
   "cell_type": "markdown",
   "metadata": {},
   "source": [
    "## Seasonality is impacting Pricing and Inventory Availability for both cities"
   ]
  },
  {
   "cell_type": "markdown",
   "metadata": {},
   "source": [
    "**Data Pre-Processing**"
   ]
  },
  {
   "cell_type": "code",
   "execution_count": 146,
   "metadata": {},
   "outputs": [],
   "source": [
    "# Reading Calender Data\n",
    "df_cal_boston = pd.read_csv(r'Boston Data\\calendar.csv.gz', compression = 'gzip',error_bad_lines=False)\n",
    "\n",
    "df_cal_seattle= pd.read_csv(r'Seattle Data\\calendar (1).csv.gz', compression = 'gzip',error_bad_lines=False)\n",
    "\n",
    "df_cal_boston['City'] = 'Boston'\n",
    "df_cal_seattle['City'] = 'Seattle'\n",
    "\n",
    "# Combining Data\n",
    "df_combine_cal = df_cal_boston.append(df_cal_seattle)"
   ]
  },
  {
   "cell_type": "markdown",
   "metadata": {},
   "source": [
    "**Data Cleaning**"
   ]
  },
  {
   "cell_type": "code",
   "execution_count": 147,
   "metadata": {},
   "outputs": [],
   "source": [
    "d = {'t': 1, 'f': 0}\n",
    "df_combine_cal['available'] = df_combine_cal['available'].map(d)\n",
    "df_combine_cal['price'] = df_combine_cal['price'].str.replace('$','')\n",
    "df_combine_cal['price'] = df_combine_cal['price'].str.replace(',','')\n",
    "df_combine_cal['price'] = df_combine_cal['price'].str.replace('.00','')\n",
    "df_combine_cal['price'] = pd.to_numeric(df_combine_cal['price'])"
   ]
  },
  {
   "cell_type": "code",
   "execution_count": 148,
   "metadata": {},
   "outputs": [],
   "source": [
    "# Grouping data at City and Date Level\n",
    "Grp4 = df_combine_cal.groupby(['City', 'date'], as_index=False).agg({\n",
    "    'available': 'mean',\n",
    "    'price': 'mean'}).round(2)\n",
    "\n",
    "Grp4['date'] = pd.to_datetime(Grp4['date'])\n",
    "Grp4['Year'] = Grp4.date.dt.year\n",
    "Grp4['Month'] = Grp4.date.dt.month\n",
    "Grp4['Weekday Name'] = Grp4.date.dt.weekday_name"
   ]
  },
  {
   "cell_type": "code",
   "execution_count": 149,
   "metadata": {},
   "outputs": [],
   "source": [
    "# Boston Data\n",
    "Grp41 = Grp4.loc[Grp4['City'] == 'Boston']\n",
    "data_columns = ['available', 'price']\n",
    "\n",
    "# Setting Date Column as Index\n",
    "Grp41 = Grp41.set_index('date')\n",
    "Grp41_monthly_mean = Grp41[data_columns].resample('M').mean()\n",
    "\n",
    "# Seattle Data\n",
    "Grp42 = Grp4.loc[Grp4['City'] == 'Seattle']\n",
    "data_columns = ['available', 'price']\n",
    "\n",
    "# Setting Date Column as Index\n",
    "Grp42 = Grp42.set_index('date')\n",
    "Grp42_monthly_mean = Grp42[data_columns].resample('M').mean()"
   ]
  },
  {
   "cell_type": "markdown",
   "metadata": {},
   "source": [
    "**Availabilty Seasonality**"
   ]
  },
  {
   "cell_type": "code",
   "execution_count": 150,
   "metadata": {},
   "outputs": [
    {
     "data": {
      "text/plain": [
       "[<matplotlib.lines.Line2D at 0x1d770c60b38>]"
      ]
     },
     "execution_count": 150,
     "metadata": {},
     "output_type": "execute_result"
    },
    {
     "data": {
      "text/plain": [
       "[<matplotlib.lines.Line2D at 0x1d73d7ffac8>]"
      ]
     },
     "execution_count": 150,
     "metadata": {},
     "output_type": "execute_result"
    },
    {
     "data": {
      "text/plain": [
       "Text(0.5, 0, 'Time')"
      ]
     },
     "execution_count": 150,
     "metadata": {},
     "output_type": "execute_result"
    },
    {
     "data": {
      "text/plain": [
       "Text(0, 0.5, 'Availabilty %')"
      ]
     },
     "execution_count": 150,
     "metadata": {},
     "output_type": "execute_result"
    },
    {
     "data": {
      "text/plain": [
       "<matplotlib.legend.Legend at 0x1d770c605f8>"
      ]
     },
     "execution_count": 150,
     "metadata": {},
     "output_type": "execute_result"
    },
    {
     "data": {
      "text/plain": [
       "Text(0.5, 1.0, 'Avg Availabilty for Boston and Seattle')"
      ]
     },
     "execution_count": 150,
     "metadata": {},
     "output_type": "execute_result"
    },
    {
     "data": {
      "text/plain": [
       "(array([737942., 737972., 738003., 738034., 738064., 738095., 738125.,\n",
       "        738156., 738187., 738215., 738246.]),\n",
       " <a list of 11 Text xticklabel objects>)"
      ]
     },
     "execution_count": 150,
     "metadata": {},
     "output_type": "execute_result"
    },
    {
     "data": {
      "image/png": "[encoded data removed]",
      "text/plain": [
       "<Figure size 432x288 with 1 Axes>"
      ]
     },
     "metadata": {
      "needs_background": "light"
     },
     "output_type": "display_data"
    }
   ],
   "source": [
    "# Subsetting Data and Plotting\n",
    "start, end1 = '2021-05', '2022-03'\n",
    "plt.rc('font', size=10)\n",
    "fig, ax = plt.subplots()\n",
    "ax.plot(Grp41_monthly_mean.loc[start:end1, 'available'], marker = 'o', linestyle = '-', linewidth = 0.5, label = 'Boston')\n",
    "ax.plot(Grp42_monthly_mean.loc[start:end1, 'available'], marker = 'o', linestyle = '-', linewidth = 0.5, label = 'Seattle')\n",
    "ax.set_xlabel('Time')\n",
    "ax.set_ylabel('Availabilty %')\n",
    "ax.legend(loc='upper right')\n",
    "plt.title('Avg Availabilty for Boston and Seattle')\n",
    "plt.xticks(rotation=90)"
   ]
  },
  {
   "cell_type": "markdown",
   "metadata": {},
   "source": [
    "**Price Seasonality**"
   ]
  },
  {
   "cell_type": "code",
   "execution_count": 151,
   "metadata": {},
   "outputs": [
    {
     "data": {
      "text/plain": [
       "[<matplotlib.lines.Line2D at 0x1d73c805828>]"
      ]
     },
     "execution_count": 151,
     "metadata": {},
     "output_type": "execute_result"
    },
    {
     "data": {
      "text/plain": [
       "[<matplotlib.lines.Line2D at 0x1d73e1d24e0>]"
      ]
     },
     "execution_count": 151,
     "metadata": {},
     "output_type": "execute_result"
    },
    {
     "data": {
      "text/plain": [
       "Text(0.5, 0, 'Time')"
      ]
     },
     "execution_count": 151,
     "metadata": {},
     "output_type": "execute_result"
    },
    {
     "data": {
      "text/plain": [
       "Text(0, 0.5, 'Avg Price')"
      ]
     },
     "execution_count": 151,
     "metadata": {},
     "output_type": "execute_result"
    },
    {
     "data": {
      "text/plain": [
       "<matplotlib.legend.Legend at 0x1d73e45b358>"
      ]
     },
     "execution_count": 151,
     "metadata": {},
     "output_type": "execute_result"
    },
    {
     "data": {
      "text/plain": [
       "Text(0.5, 1.0, 'Avg Price for Boston and Seattle')"
      ]
     },
     "execution_count": 151,
     "metadata": {},
     "output_type": "execute_result"
    },
    {
     "data": {
      "text/plain": [
       "(array([737942., 737972., 738003., 738034., 738064., 738095., 738125.,\n",
       "        738156., 738187., 738215., 738246.]),\n",
       " <a list of 11 Text xticklabel objects>)"
      ]
     },
     "execution_count": 151,
     "metadata": {},
     "output_type": "execute_result"
    },
    {
     "data": {
      "image/png": "[encoded data removed]",
      "text/plain": [
       "<Figure size 432x288 with 1 Axes>"
      ]
     },
     "metadata": {
      "needs_background": "light"
     },
     "output_type": "display_data"
    }
   ],
   "source": [
    "plt.rc('font', size=10)\n",
    "fig, ax = plt.subplots()\n",
    "\n",
    "# Specify how our lines should look\n",
    "ax.plot(Grp41_monthly_mean.loc[start:end1, 'price'], marker = 'o', linestyle = '-', linewidth = 0.5, label = 'Boston')\n",
    "ax.plot(Grp42_monthly_mean.loc[start:end1, 'price'], marker = 'o', linestyle = '-', linewidth = 0.5, label = 'Seattle')\n",
    "ax.set_xlabel('Time')\n",
    "ax.set_ylabel('Avg Price')\n",
    "ax.legend(loc='upper right')\n",
    "plt.title('Avg Price for Boston and Seattle')\n",
    "plt.xticks(rotation=90)"
   ]
  },
  {
   "cell_type": "markdown",
   "metadata": {},
   "source": [
    "## Impact of High Value Amenities ##"
   ]
  },
  {
   "cell_type": "code",
   "execution_count": 152,
   "metadata": {},
   "outputs": [
    {
     "data": {
      "text/plain": [
       "0       None\n",
       "1       None\n",
       "2       None\n",
       "3       None\n",
       "4       None\n",
       "        ... \n",
       "2881    None\n",
       "2882    None\n",
       "2883    None\n",
       "2884    None\n",
       "2885    None\n",
       "Length: 2886, dtype: object"
      ]
     },
     "execution_count": 152,
     "metadata": {},
     "output_type": "execute_result"
    }
   ],
   "source": [
    "# Boston\n",
    "df_amenities_boston = pd.DataFrame(columns = ['Amenities','PropID','Price'])\n",
    "\n",
    "\n",
    "def melting_boston(x):\n",
    "    '''\n",
    "    This function will create dataframe from comma seperated amenities column \n",
    "    \n",
    "    INPUT: x: Comma Seperated Amenities Column for Boston City\n",
    "    \n",
    "    OUTPUT: DataFrame : df_amenities_boston\n",
    "    \n",
    "    '''\n",
    "    global df_amenities_boston\n",
    "    y = x['amenities']\n",
    "    y = y.replace('[', '')\n",
    "    y = y.replace(']', '')\n",
    "    y = y.replace('\"', '')\n",
    "    y = pd.DataFrame(y.split(\",\"), columns = ['Amenities'])\n",
    "    y['PropID'] = x['id']\n",
    "    y['Price'] = x['price']\n",
    "    df_amenities_boston = df_amenities_boston.append(y)\n",
    "\n",
    "df_combine_all.loc[(df_combine_all['City'] == 'Boston')].apply(melting_boston, axis=1)\n",
    "df_amenities_boston['City'] = 'Boston'   "
   ]
  },
  {
   "cell_type": "code",
   "execution_count": 153,
   "metadata": {},
   "outputs": [
    {
     "data": {
      "text/plain": [
       "2886    None\n",
       "2887    None\n",
       "2888    None\n",
       "2889    None\n",
       "2890    None\n",
       "        ... \n",
       "6854    None\n",
       "6855    None\n",
       "6856    None\n",
       "6857    None\n",
       "6858    None\n",
       "Length: 3973, dtype: object"
      ]
     },
     "execution_count": 153,
     "metadata": {},
     "output_type": "execute_result"
    }
   ],
   "source": [
    "# Seattle\n",
    "df_amenities_seattle = pd.DataFrame(columns = ['Amenities','PropID','Price'])\n",
    "\n",
    "\n",
    "def melting_seattle(x):\n",
    "    '''\n",
    "    This function will create dataframe from comma seperated amenities column \n",
    "    \n",
    "    INPUT: x: Comma Seperated Amenities Column for Seattle City\n",
    "    \n",
    "    OUTPUT: DataFrame : df_amenities_seattle\n",
    "    \n",
    "    '''\n",
    "    global df_amenities_seattle\n",
    "    y = x['amenities']\n",
    "    y = y.replace('[', '')\n",
    "    y = y.replace(']', '')\n",
    "    y = y.replace('\"', '')\n",
    "    y = pd.DataFrame(y.split(\",\"), columns = ['Amenities'])\n",
    "    y['PropID'] = x['id']\n",
    "    y['Price'] = x['price']\n",
    "    df_amenities_seattle = df_amenities_seattle.append(y)\n",
    "\n",
    "df_combine_all.loc[(df_combine_all['City'] == 'Seattle')].apply(melting_seattle, axis=1)\n",
    "df_amenities_seattle['City'] = 'Seattle'"
   ]
  },
  {
   "cell_type": "code",
   "execution_count": 154,
   "metadata": {},
   "outputs": [
    {
     "data": {
      "text/html": [
       "<div>\n",
       "<style scoped>\n",
       "    .dataframe tbody tr th:only-of-type {\n",
       "        vertical-align: middle;\n",
       "    }\n",
       "\n",
       "    .dataframe tbody tr th {\n",
       "        vertical-align: top;\n",
       "    }\n",
       "\n",
       "    .dataframe thead th {\n",
       "        text-align: right;\n",
       "    }\n",
       "</style>\n",
       "<table border=\"1\" class=\"dataframe\">\n",
       "  <thead>\n",
       "    <tr style=\"text-align: right;\">\n",
       "      <th></th>\n",
       "      <th>Amenities</th>\n",
       "      <th>PropID</th>\n",
       "      <th>Price</th>\n",
       "    </tr>\n",
       "  </thead>\n",
       "  <tbody>\n",
       "    <tr>\n",
       "      <th>45</th>\n",
       "      <td>Bed linens</td>\n",
       "      <td>1794</td>\n",
       "      <td>146.59</td>\n",
       "    </tr>\n",
       "    <tr>\n",
       "      <th>64</th>\n",
       "      <td>Cable TV</td>\n",
       "      <td>782</td>\n",
       "      <td>147.21</td>\n",
       "    </tr>\n",
       "    <tr>\n",
       "      <th>101</th>\n",
       "      <td>Dishwasher</td>\n",
       "      <td>993</td>\n",
       "      <td>155.73</td>\n",
       "    </tr>\n",
       "    <tr>\n",
       "      <th>115</th>\n",
       "      <td>Extra pillows and blankets</td>\n",
       "      <td>1204</td>\n",
       "      <td>150.02</td>\n",
       "    </tr>\n",
       "    <tr>\n",
       "      <th>172</th>\n",
       "      <td>Lockbox</td>\n",
       "      <td>658</td>\n",
       "      <td>159.20</td>\n",
       "    </tr>\n",
       "    <tr>\n",
       "      <th>224</th>\n",
       "      <td>Private entrance</td>\n",
       "      <td>906</td>\n",
       "      <td>163.49</td>\n",
       "    </tr>\n",
       "    <tr>\n",
       "      <th>248</th>\n",
       "      <td>Shower gel</td>\n",
       "      <td>608</td>\n",
       "      <td>174.67</td>\n",
       "    </tr>\n",
       "  </tbody>\n",
       "</table>\n",
       "</div>"
      ],
      "text/plain": [
       "                       Amenities  PropID   Price\n",
       "45                    Bed linens    1794  146.59\n",
       "64                      Cable TV     782  147.21\n",
       "101                   Dishwasher     993  155.73\n",
       "115   Extra pillows and blankets    1204  150.02\n",
       "172                      Lockbox     658  159.20\n",
       "224             Private entrance     906  163.49\n",
       "248                   Shower gel     608  174.67"
      ]
     },
     "execution_count": 154,
     "metadata": {},
     "output_type": "execute_result"
    }
   ],
   "source": [
    "# Top 10 Percentile of Amenities (Boston) whose Avg Price is greater than Avg Price\n",
    "Grp5 = df_amenities_boston.groupby(['Amenities'],as_index=False).agg({\n",
    "    'PropID': 'nunique',\n",
    "    'Price': 'mean'}).round(2)\n",
    "boston_price_mean = np.mean(df_combine_all.loc\n",
    "                            [(df_combine_all['City'] == 'Boston')]['price'])\n",
    "Grp51 = Grp5.loc[(Grp5['Price'] > 1.1*boston_price_mean) &\n",
    "                 (Grp5['PropID'] > Grp5['PropID'].quantile(0.9))]\n",
    "Grp51"
   ]
  },
  {
   "cell_type": "code",
   "execution_count": 157,
   "metadata": {},
   "outputs": [
    {
     "data": {
      "text/plain": [
       "Text(0.5, 1.0, 'Top 10 Percentile of Amenities (Boston) whose Avg Price is greater than Avg Price')"
      ]
     },
     "execution_count": 157,
     "metadata": {},
     "output_type": "execute_result"
    },
    {
     "data": {
      "text/plain": [
       "Text(0.5, 0, 'Amenities')"
      ]
     },
     "execution_count": 157,
     "metadata": {},
     "output_type": "execute_result"
    },
    {
     "data": {
      "text/plain": [
       "Text(0, 0.5, 'Avg Price($)')"
      ]
     },
     "execution_count": 157,
     "metadata": {},
     "output_type": "execute_result"
    },
    {
     "data": {
      "text/plain": [
       "(array([0, 1, 2, 3, 4, 5, 6]), <a list of 7 Text xticklabel objects>)"
      ]
     },
     "execution_count": 157,
     "metadata": {},
     "output_type": "execute_result"
    },
    {
     "data": {
      "text/plain": [
       "Text(0, 5, '147')"
      ]
     },
     "execution_count": 157,
     "metadata": {},
     "output_type": "execute_result"
    },
    {
     "data": {
      "text/plain": [
       "Text(0, 5, '147')"
      ]
     },
     "execution_count": 157,
     "metadata": {},
     "output_type": "execute_result"
    },
    {
     "data": {
      "text/plain": [
       "Text(0, 5, '156')"
      ]
     },
     "execution_count": 157,
     "metadata": {},
     "output_type": "execute_result"
    },
    {
     "data": {
      "text/plain": [
       "Text(0, 5, '150')"
      ]
     },
     "execution_count": 157,
     "metadata": {},
     "output_type": "execute_result"
    },
    {
     "data": {
      "text/plain": [
       "Text(0, 5, '159')"
      ]
     },
     "execution_count": 157,
     "metadata": {},
     "output_type": "execute_result"
    },
    {
     "data": {
      "text/plain": [
       "Text(0, 5, '163')"
      ]
     },
     "execution_count": 157,
     "metadata": {},
     "output_type": "execute_result"
    },
    {
     "data": {
      "text/plain": [
       "Text(0, 5, '175')"
      ]
     },
     "execution_count": 157,
     "metadata": {},
     "output_type": "execute_result"
    },
    {
     "data": {
      "image/png": "[encoded data removed]",
      "text/plain": [
       "<Figure size 432x288 with 1 Axes>"
      ]
     },
     "metadata": {
      "needs_background": "light"
     },
     "output_type": "display_data"
    }
   ],
   "source": [
    "chart = sns.barplot(x=\"Amenities\", y=\"Price\" , data=Grp51)\n",
    "plt.title('Top 10 Percentile of Amenities (Boston) whose Avg Price is greater than Avg Price')\n",
    "plt.xlabel(\"Amenities\")\n",
    "plt.ylabel(\"Avg Price($)\")\n",
    "plt.xticks(rotation=90)\n",
    "# label points on the plot\n",
    "for p in chart.patches:\n",
    "    chart.annotate(\"%.0f\" % p.get_height(), (p.get_x() + p.get_width() / 2.,\n",
    "                                             p.get_height()), ha='center',\n",
    "                   va='center', fontsize=8, color='black', xytext=(0, 5),\n",
    "                   textcoords='offset points')\n",
    "plt.show()\n"
   ]
  },
  {
   "cell_type": "code",
   "execution_count": 158,
   "metadata": {},
   "outputs": [
    {
     "data": {
      "text/html": [
       "<div>\n",
       "<style scoped>\n",
       "    .dataframe tbody tr th:only-of-type {\n",
       "        vertical-align: middle;\n",
       "    }\n",
       "\n",
       "    .dataframe tbody tr th {\n",
       "        vertical-align: top;\n",
       "    }\n",
       "\n",
       "    .dataframe thead th {\n",
       "        text-align: right;\n",
       "    }\n",
       "</style>\n",
       "<table border=\"1\" class=\"dataframe\">\n",
       "  <thead>\n",
       "    <tr style=\"text-align: right;\">\n",
       "      <th></th>\n",
       "      <th>Amenities</th>\n",
       "      <th>PropID</th>\n",
       "      <th>Price</th>\n",
       "    </tr>\n",
       "  </thead>\n",
       "  <tbody>\n",
       "    <tr>\n",
       "      <th>70</th>\n",
       "      <td>Air conditioning</td>\n",
       "      <td>1363</td>\n",
       "      <td>137.09</td>\n",
       "    </tr>\n",
       "    <tr>\n",
       "      <th>93</th>\n",
       "      <td>BBQ grill</td>\n",
       "      <td>775</td>\n",
       "      <td>144.10</td>\n",
       "    </tr>\n",
       "    <tr>\n",
       "      <th>105</th>\n",
       "      <td>Bathtub</td>\n",
       "      <td>999</td>\n",
       "      <td>141.24</td>\n",
       "    </tr>\n",
       "    <tr>\n",
       "      <th>135</th>\n",
       "      <td>Cable TV</td>\n",
       "      <td>1056</td>\n",
       "      <td>137.37</td>\n",
       "    </tr>\n",
       "    <tr>\n",
       "      <th>141</th>\n",
       "      <td>Children\\u2019s books and toys</td>\n",
       "      <td>319</td>\n",
       "      <td>143.17</td>\n",
       "    </tr>\n",
       "    <tr>\n",
       "      <th>189</th>\n",
       "      <td>Dishwasher</td>\n",
       "      <td>1909</td>\n",
       "      <td>140.47</td>\n",
       "    </tr>\n",
       "    <tr>\n",
       "      <th>217</th>\n",
       "      <td>Elevator</td>\n",
       "      <td>758</td>\n",
       "      <td>138.89</td>\n",
       "    </tr>\n",
       "    <tr>\n",
       "      <th>219</th>\n",
       "      <td>Ethernet connection</td>\n",
       "      <td>343</td>\n",
       "      <td>137.38</td>\n",
       "    </tr>\n",
       "    <tr>\n",
       "      <th>289</th>\n",
       "      <td>Gym</td>\n",
       "      <td>689</td>\n",
       "      <td>146.67</td>\n",
       "    </tr>\n",
       "    <tr>\n",
       "      <th>302</th>\n",
       "      <td>High chair</td>\n",
       "      <td>260</td>\n",
       "      <td>166.81</td>\n",
       "    </tr>\n",
       "    <tr>\n",
       "      <th>314</th>\n",
       "      <td>Indoor fireplace</td>\n",
       "      <td>713</td>\n",
       "      <td>153.38</td>\n",
       "    </tr>\n",
       "    <tr>\n",
       "      <th>371</th>\n",
       "      <td>Pack \\u2019n Play/travel crib</td>\n",
       "      <td>564</td>\n",
       "      <td>148.68</td>\n",
       "    </tr>\n",
       "  </tbody>\n",
       "</table>\n",
       "</div>"
      ],
      "text/plain": [
       "                           Amenities  PropID   Price\n",
       "70                  Air conditioning    1363  137.09\n",
       "93                         BBQ grill     775  144.10\n",
       "105                          Bathtub     999  141.24\n",
       "135                         Cable TV    1056  137.37\n",
       "141   Children\\u2019s books and toys     319  143.17\n",
       "189                       Dishwasher    1909  140.47\n",
       "217                         Elevator     758  138.89\n",
       "219              Ethernet connection     343  137.38\n",
       "289                              Gym     689  146.67\n",
       "302                       High chair     260  166.81\n",
       "314                 Indoor fireplace     713  153.38\n",
       "371    Pack \\u2019n Play/travel crib     564  148.68"
      ]
     },
     "execution_count": 158,
     "metadata": {},
     "output_type": "execute_result"
    }
   ],
   "source": [
    "# Top 10 Percentile of Amenities (Seattle) whose Price is greater than Avg\n",
    "Grp6 = df_amenities_seattle.groupby(['Amenities'], as_index=False).agg({\n",
    "    'PropID': 'nunique',\n",
    "    'Price': 'mean'}).round(2)\n",
    "\n",
    "seattle_price_mean = np.mean(df_combine_all.loc[(df_combine_all['City'] == 'Seattle')]['price'])\n",
    "Grp61 = Grp6.loc[(Grp6['Price'] > 1.1*seattle_price_mean) &\n",
    "                 (Grp6['PropID'] > Grp6['PropID'].quantile(0.9))]\n",
    "Grp61"
   ]
  },
  {
   "cell_type": "code",
   "execution_count": 159,
   "metadata": {},
   "outputs": [
    {
     "data": {
      "text/plain": [
       "Text(0.5, 1.0, 'Top 10 Percentile of Amenities (Seattle) whose Avg Price is greater than Avg Price')"
      ]
     },
     "execution_count": 159,
     "metadata": {},
     "output_type": "execute_result"
    },
    {
     "data": {
      "text/plain": [
       "Text(0.5, 0, 'Amenities')"
      ]
     },
     "execution_count": 159,
     "metadata": {},
     "output_type": "execute_result"
    },
    {
     "data": {
      "text/plain": [
       "Text(0, 0.5, 'Avg Price($)')"
      ]
     },
     "execution_count": 159,
     "metadata": {},
     "output_type": "execute_result"
    },
    {
     "data": {
      "text/plain": [
       "(array([ 0,  1,  2,  3,  4,  5,  6,  7,  8,  9, 10, 11]),\n",
       " <a list of 12 Text xticklabel objects>)"
      ]
     },
     "execution_count": 159,
     "metadata": {},
     "output_type": "execute_result"
    },
    {
     "data": {
      "text/plain": [
       "Text(0, 5, '137')"
      ]
     },
     "execution_count": 159,
     "metadata": {},
     "output_type": "execute_result"
    },
    {
     "data": {
      "text/plain": [
       "Text(0, 5, '144')"
      ]
     },
     "execution_count": 159,
     "metadata": {},
     "output_type": "execute_result"
    },
    {
     "data": {
      "text/plain": [
       "Text(0, 5, '141')"
      ]
     },
     "execution_count": 159,
     "metadata": {},
     "output_type": "execute_result"
    },
    {
     "data": {
      "text/plain": [
       "Text(0, 5, '137')"
      ]
     },
     "execution_count": 159,
     "metadata": {},
     "output_type": "execute_result"
    },
    {
     "data": {
      "text/plain": [
       "Text(0, 5, '143')"
      ]
     },
     "execution_count": 159,
     "metadata": {},
     "output_type": "execute_result"
    },
    {
     "data": {
      "text/plain": [
       "Text(0, 5, '140')"
      ]
     },
     "execution_count": 159,
     "metadata": {},
     "output_type": "execute_result"
    },
    {
     "data": {
      "text/plain": [
       "Text(0, 5, '139')"
      ]
     },
     "execution_count": 159,
     "metadata": {},
     "output_type": "execute_result"
    },
    {
     "data": {
      "text/plain": [
       "Text(0, 5, '137')"
      ]
     },
     "execution_count": 159,
     "metadata": {},
     "output_type": "execute_result"
    },
    {
     "data": {
      "text/plain": [
       "Text(0, 5, '147')"
      ]
     },
     "execution_count": 159,
     "metadata": {},
     "output_type": "execute_result"
    },
    {
     "data": {
      "text/plain": [
       "Text(0, 5, '167')"
      ]
     },
     "execution_count": 159,
     "metadata": {},
     "output_type": "execute_result"
    },
    {
     "data": {
      "text/plain": [
       "Text(0, 5, '153')"
      ]
     },
     "execution_count": 159,
     "metadata": {},
     "output_type": "execute_result"
    },
    {
     "data": {
      "text/plain": [
       "Text(0, 5, '149')"
      ]
     },
     "execution_count": 159,
     "metadata": {},
     "output_type": "execute_result"
    },
    {
     "data": {
      "image/png": "[encoded data removed]",
      "text/plain": [
       "<Figure size 432x288 with 1 Axes>"
      ]
     },
     "metadata": {
      "needs_background": "light"
     },
     "output_type": "display_data"
    }
   ],
   "source": [
    "chart = sns.barplot(x=\"Amenities\", y=\"Price\" , data=Grp61)\n",
    "plt.title('Top 10 Percentile of Amenities (Seattle) whose Avg Price is greater than Avg Price')\n",
    "plt.xlabel(\"Amenities\")\n",
    "plt.ylabel(\"Avg Price($)\")\n",
    "plt.xticks(rotation=90)\n",
    "# label points on the plot\n",
    "for p in chart.patches:\n",
    "    chart.annotate(\"%.0f\" % p.get_height(), (p.get_x() + p.get_width() / 2.,\n",
    "                                             p.get_height()), ha='center',\n",
    "                   va='center', fontsize=8, color='black', xytext=(0, 5),\n",
    "                   textcoords='offset points')\n",
    "plt.show()"
   ]
  },
  {
   "cell_type": "markdown",
   "metadata": {},
   "source": [
    "## Neighbourhoods which are getting high reviews but there is shortage of inventory leading to increase in price."
   ]
  },
  {
   "cell_type": "code",
   "execution_count": 160,
   "metadata": {},
   "outputs": [
    {
     "data": {
      "text/plain": [
       "Text(0.5, 1.0, 'Availabilty X Reviews : Boston')"
      ]
     },
     "execution_count": 160,
     "metadata": {},
     "output_type": "execute_result"
    },
    {
     "data": {
      "image/png": "[encoded data removed]",
      "text/plain": [
       "<Figure size 432x288 with 1 Axes>"
      ]
     },
     "metadata": {
      "needs_background": "light"
     },
     "output_type": "display_data"
    }
   ],
   "source": [
    "# Boston City\n",
    "Grp7 = df_combine_all.groupby(['City','neighbourhood_cleansed'],\n",
    "                              as_index=False).agg({\n",
    "                                  'id': 'count',\n",
    "                                  'availability_365': availabilty_365_per,\n",
    "                                  'number_of_reviews': ['mean', 'sum']\n",
    "                                                            }).round(2)\n",
    "\n",
    "Grp7.columns = ['City', 'Neighbourhood', 'Prop Count', 'Availabilty Per',\n",
    "                'Review Per Prop', 'Total Review']\n",
    "\n",
    "\n",
    "Grp71 = Grp7.loc[Grp7['City'] == 'Boston']\n",
    "Grp71 = Grp71.loc[Grp7['Prop Count'] > Grp71['Prop Count'].quantile(0.2)]\n",
    "\n",
    "\n",
    "ax = sns.scatterplot(data=Grp71, x=\"Availabilty Per\", y=\"Total Review\")\n",
    "plt.title('Availabilty X Reviews : Boston')\n",
    "plt.rcParams.update({'font.size': 8})\n",
    "\n",
    "\n",
    "def label_point_boston(x, y, val, ax):\n",
    "    '''\n",
    "    This function will plot datalabels of neighbourhood where there is shortage of inventory \n",
    "    INPUT: x: x axis \n",
    "           y: y axis\n",
    "           val: Data Labels\n",
    "           ax: Plot    \n",
    "    OUTPUT: Scatter Plot for Boston\n",
    "    '''\n",
    "    a = pd.concat({'x': x, 'y': y, 'val': val}, axis=1)\n",
    "    x_mean = np.mean(x) *0.95\n",
    "#    print(x_mean)\n",
    "    y_mean = np.mean(y) \n",
    "#    print(y_mean)\n",
    "    for i, point in a.iterrows():\n",
    "        if (float(point['x']) < x_mean) and (float(point['y']) > y_mean):\n",
    "            ax.text(point['x']+.01, point['y'], str(point['val']))\n",
    "label_point_boston(Grp71['Availabilty Per'], Grp71['Total Review'], Grp71['Neighbourhood'], plt.gca())  "
   ]
  },
  {
   "cell_type": "code",
   "execution_count": 161,
   "metadata": {},
   "outputs": [
    {
     "data": {
      "text/plain": [
       "Text(0.5, 1.0, 'Availabilty X Reviews : Seattle')"
      ]
     },
     "execution_count": 161,
     "metadata": {},
     "output_type": "execute_result"
    },
    {
     "data": {
      "image/png": "[encoded data removed]",
      "text/plain": [
       "<Figure size 432x288 with 1 Axes>"
      ]
     },
     "metadata": {
      "needs_background": "light"
     },
     "output_type": "display_data"
    }
   ],
   "source": [
    "# Seattle Data\n",
    "Grp72 = Grp7.loc[Grp7['City'] == 'Seattle']\n",
    "Grp72 = Grp72.loc[Grp7['Prop Count'] > Grp72['Prop Count'].quantile(0.4)]\n",
    "\n",
    "\n",
    "ax2 = sns.scatterplot(data=Grp72, x=\"Availabilty Per\", y=\"Total Review\")\n",
    "plt.title('Availabilty X Reviews : Seattle')\n",
    "plt.rcParams.update({'font.size': 8})\n",
    "\n",
    "\n",
    "def label_point_seattle(x, y, val, ax):\n",
    "    '''\n",
    "    This function will plot datalabels of neighbourhood where there is shortage of inventory \n",
    "    INPUT: x: x axis \n",
    "           y: y axis\n",
    "           val: Data Labels\n",
    "           ax: Plot    \n",
    "    OUTPUT: Scatter Plot for Seattle\n",
    "    '''\n",
    "    a = pd.concat({'x': x, 'y': y, 'val': val}, axis=1)\n",
    "    x_mean = np.mean(x) * 0.9\n",
    "#    print(x_mean)\n",
    "    y_mean = np.mean(y) * 1.3\n",
    "#    print(y_mean)\n",
    "    for i, point in a.iterrows():\n",
    "        if (float(point['x']) < x_mean) and (float(point['y']) > y_mean):\n",
    "            ax.text(point['x']+.01, point['y'], str(point['val']))\n",
    "label_point_seattle(Grp72['Availabilty Per'], Grp72['Total Review'], Grp72['Neighbourhood'], plt.gca()) "
   ]
  },
  {
   "cell_type": "markdown",
   "metadata": {},
   "source": [
    "## Linear Regression - Identifying Feature Importance of Seattle vs Boston ##"
   ]
  },
  {
   "cell_type": "markdown",
   "metadata": {},
   "source": [
    "**Boston City** Using Linear Regression Technique"
   ]
  },
  {
   "cell_type": "code",
   "execution_count": 162,
   "metadata": {},
   "outputs": [],
   "source": [
    "df_boston = df_combine_all.loc[df_combine_all['City'] == 'Boston']"
   ]
  },
  {
   "cell_type": "markdown",
   "metadata": {},
   "source": [
    "**Handling Null Values**\n",
    "1. Host Response Rate & Host Acceptance Rate: Approx 20% of entries are missing and replaclacing it by mean\n",
    "2. Superhost: Superhost are those which do significant business for Airbnb, we are assuming here that if data is missing then that host is not a superhost\n",
    "3. Host Listing Count We are assuming that there is one property per hosts where data is missing\n",
    "4. Host Experience We are assuming experience to be 1 year if data is missing\n",
    "5. Beds  Replacing it by minimum 1 bed per property"
   ]
  },
  {
   "cell_type": "code",
   "execution_count": 163,
   "metadata": {},
   "outputs": [
    {
     "data": {
      "text/plain": [
       "host_response_rate       0.0\n",
       "host_acceptance_rate     0.0\n",
       "host_is_superhost        0.0\n",
       "latitude                 0.0\n",
       "longitude                0.0\n",
       "room_type                0.0\n",
       "price                    0.0\n",
       "minimum_nights           0.0\n",
       "maximum_nights           0.0\n",
       "has_availability         0.0\n",
       "availability_365         0.0\n",
       "number_of_reviews        0.0\n",
       "number_of_reviews_ltm    0.0\n",
       "instant_bookable         0.0\n",
       "host_listings_count      0.0\n",
       "accommodates             0.0\n",
       "beds                     0.0\n",
       "HostExperience           0.0\n",
       "propgroup                0.0\n",
       "stay_type_property       0.0\n",
       "dtype: float64"
      ]
     },
     "execution_count": 163,
     "metadata": {},
     "output_type": "execute_result"
    }
   ],
   "source": [
    "df_boston['host_response_rate'].fillna(np.mean(df_boston['host_response_rate']),inplace = True)\n",
    "df_boston['host_acceptance_rate'].fillna(np.mean(df_boston['host_acceptance_rate']),inplace = True)\n",
    "df_boston['host_is_superhost'].fillna(False,inplace = True)\n",
    "df_boston['host_listings_count'].fillna(1,inplace = True)\n",
    "df_boston['HostExperience'].fillna(1,inplace = True)\n",
    "df_boston['beds'].fillna(1,inplace = True)\n",
    "\n",
    "# Dropping Columns because most of the values were NAN\n",
    "df_boston.drop(['City','property_type','amenities','name','host_name','review_scores_rating','review_scores_accuracy','review_scores_cleanliness','review_scores_checkin','review_scores_communication','review_scores_location','review_scores_value','bedrooms','host_id','id','neighbourhood_cleansed'], axis =1, inplace = True)\n",
    "\n",
    "df_boston.isna().mean()*100"
   ]
  },
  {
   "cell_type": "code",
   "execution_count": 164,
   "metadata": {},
   "outputs": [],
   "source": [
    "def create_dummy_df(df, cat_cols, dummy_na):\n",
    "    '''\n",
    "    INPUT:\n",
    "    df - pandas dataframe with categorical variables you want to dummy\n",
    "    cat_cols - list of strings that are associated with names of the\n",
    "    categorical columns\n",
    "    dummy_na - Bool holding whether you want to dummy NA vals of\n",
    "    categorical columns or not\n",
    "    OUTPUT:\n",
    "    df - a new dataframe that has the following characteristics:\n",
    "            1. contains all columns that were not specified as categorical\n",
    "            2. removes all the original columns in cat_cols\n",
    "            3. dummy columns for each of the categorical columns in cat_cols\n",
    "            4. if dummy_na is True - it also contains dummy columns for the\n",
    "            NaN values\n",
    "            5. Use a prefix of the column name with an underscore\n",
    "            (_) for separating\n",
    "    '''\n",
    "    for col in cat_cols:\n",
    "        try:\n",
    "            # for each cat add dummy var, drop original column\n",
    "            df = pd.concat([df.drop(col, axis=1), pd.get_dummies(df[col], prefix=col, prefix_sep='_', drop_first=True, dummy_na=dummy_na)], axis=1)\n",
    "        except:\n",
    "            continue\n",
    "    return df"
   ]
  },
  {
   "cell_type": "code",
   "execution_count": 165,
   "metadata": {},
   "outputs": [],
   "source": [
    "cat_df = df_boston.select_dtypes(include=['object','category'])\n",
    "num_df = df_boston.select_dtypes(include = ['float64','int64','bool'])\n",
    "cat_df = create_dummy_df(cat_df, cat_df.columns, False)\n",
    "df_boston = pd.concat([cat_df,num_df],axis = 1)"
   ]
  },
  {
   "cell_type": "code",
   "execution_count": 166,
   "metadata": {},
   "outputs": [],
   "source": [
    "x = df_boston[['room_type_Hotel room', 'room_type_Private room',\n",
    "               'room_type_Shared room', 'propgroup_BnB', 'propgroup_Boat',\n",
    "               'propgroup_Bungalow', 'propgroup_Castle',\n",
    "               'propgroup_Condominium', 'propgroup_Guest Suite',\n",
    "               'propgroup_Guesthouse', 'propgroup_Home', 'propgroup_Hotel',\n",
    "               'propgroup_House', 'propgroup_Houseboat', 'propgroup_Loft',\n",
    "               'propgroup_Townhouse', 'propgroup_Villa',\n",
    "               'stay_type_property_Long Stay', 'host_response_rate',\n",
    "               'host_acceptance_rate', 'host_is_superhost', 'latitude',\n",
    "               'longitude', 'minimum_nights', 'maximum_nights',\n",
    "               'has_availability', 'availability_365', 'number_of_reviews',\n",
    "               'number_of_reviews_ltm', 'instant_bookable',\n",
    "               'host_listings_count', 'accommodates',\n",
    "               'beds', 'HostExperience']]\n",
    "\n",
    "y = df_boston[['price']]"
   ]
  },
  {
   "cell_type": "code",
   "execution_count": 167,
   "metadata": {},
   "outputs": [
    {
     "data": {
      "text/plain": [
       "LinearRegression(copy_X=True, fit_intercept=True, n_jobs=None, normalize=True)"
      ]
     },
     "execution_count": 167,
     "metadata": {},
     "output_type": "execute_result"
    },
    {
     "data": {
      "text/plain": [
       "'The r-squared score for your model was 0.5708085560838723 on 866 values.'"
      ]
     },
     "execution_count": 167,
     "metadata": {},
     "output_type": "execute_result"
    }
   ],
   "source": [
    "# Split into train and test\n",
    "X_train, X_test, y_train, y_test = train_test_split(x, y, test_size = .30, random_state=42) \n",
    "\n",
    "lm_model = LinearRegression(normalize=True)  # Instantiate\n",
    "lm_model.fit(X_train, y_train)  # Fit\n",
    "\n",
    "# Predict and score the model\n",
    "y_test_preds = lm_model.predict(X_test)\n",
    "\n",
    "# Rsquared and y_test\n",
    "rsquared_score = r2_score(y_test, y_test_preds)\n",
    "length_y_test = len(y_test)\n",
    "\n",
    "\"The r-squared score for your model was {} on {} values.\".format(rsquared_score, length_y_test)\n"
   ]
  },
  {
   "cell_type": "code",
   "execution_count": 170,
   "metadata": {},
   "outputs": [
    {
     "data": {
      "text/html": [
       "<div>\n",
       "<style scoped>\n",
       "    .dataframe tbody tr th:only-of-type {\n",
       "        vertical-align: middle;\n",
       "    }\n",
       "\n",
       "    .dataframe tbody tr th {\n",
       "        vertical-align: top;\n",
       "    }\n",
       "\n",
       "    .dataframe thead th {\n",
       "        text-align: right;\n",
       "    }\n",
       "</style>\n",
       "<table border=\"1\" class=\"dataframe\">\n",
       "  <thead>\n",
       "    <tr style=\"text-align: right;\">\n",
       "      <th></th>\n",
       "      <th>Feature</th>\n",
       "      <th>Importance</th>\n",
       "    </tr>\n",
       "  </thead>\n",
       "  <tbody>\n",
       "    <tr>\n",
       "      <th>0</th>\n",
       "      <td>latitude</td>\n",
       "      <td>365.304849</td>\n",
       "    </tr>\n",
       "    <tr>\n",
       "      <th>0</th>\n",
       "      <td>longitude</td>\n",
       "      <td>130.461105</td>\n",
       "    </tr>\n",
       "    <tr>\n",
       "      <th>0</th>\n",
       "      <td>propgroup_Boat</td>\n",
       "      <td>76.330784</td>\n",
       "    </tr>\n",
       "    <tr>\n",
       "      <th>0</th>\n",
       "      <td>propgroup_Hotel</td>\n",
       "      <td>62.437030</td>\n",
       "    </tr>\n",
       "    <tr>\n",
       "      <th>0</th>\n",
       "      <td>propgroup_House</td>\n",
       "      <td>39.467863</td>\n",
       "    </tr>\n",
       "    <tr>\n",
       "      <th>0</th>\n",
       "      <td>propgroup_Guesthouse</td>\n",
       "      <td>35.975623</td>\n",
       "    </tr>\n",
       "    <tr>\n",
       "      <th>0</th>\n",
       "      <td>propgroup_Townhouse</td>\n",
       "      <td>28.281932</td>\n",
       "    </tr>\n",
       "    <tr>\n",
       "      <th>0</th>\n",
       "      <td>propgroup_BnB</td>\n",
       "      <td>16.205361</td>\n",
       "    </tr>\n",
       "    <tr>\n",
       "      <th>0</th>\n",
       "      <td>accommodates</td>\n",
       "      <td>16.059708</td>\n",
       "    </tr>\n",
       "    <tr>\n",
       "      <th>0</th>\n",
       "      <td>propgroup_Loft</td>\n",
       "      <td>13.710400</td>\n",
       "    </tr>\n",
       "    <tr>\n",
       "      <th>0</th>\n",
       "      <td>beds</td>\n",
       "      <td>5.867957</td>\n",
       "    </tr>\n",
       "    <tr>\n",
       "      <th>0</th>\n",
       "      <td>propgroup_Home</td>\n",
       "      <td>5.594145</td>\n",
       "    </tr>\n",
       "    <tr>\n",
       "      <th>0</th>\n",
       "      <td>propgroup_Villa</td>\n",
       "      <td>4.969397</td>\n",
       "    </tr>\n",
       "    <tr>\n",
       "      <th>0</th>\n",
       "      <td>propgroup_Bungalow</td>\n",
       "      <td>0.636986</td>\n",
       "    </tr>\n",
       "    <tr>\n",
       "      <th>0</th>\n",
       "      <td>host_acceptance_rate</td>\n",
       "      <td>0.094700</td>\n",
       "    </tr>\n",
       "    <tr>\n",
       "      <th>0</th>\n",
       "      <td>host_listings_count</td>\n",
       "      <td>0.028619</td>\n",
       "    </tr>\n",
       "    <tr>\n",
       "      <th>0</th>\n",
       "      <td>availability_365</td>\n",
       "      <td>0.002220</td>\n",
       "    </tr>\n",
       "    <tr>\n",
       "      <th>0</th>\n",
       "      <td>maximum_nights</td>\n",
       "      <td>-0.002990</td>\n",
       "    </tr>\n",
       "    <tr>\n",
       "      <th>0</th>\n",
       "      <td>number_of_reviews</td>\n",
       "      <td>-0.011229</td>\n",
       "    </tr>\n",
       "    <tr>\n",
       "      <th>0</th>\n",
       "      <td>minimum_nights</td>\n",
       "      <td>-0.044735</td>\n",
       "    </tr>\n",
       "    <tr>\n",
       "      <th>0</th>\n",
       "      <td>host_response_rate</td>\n",
       "      <td>-0.082344</td>\n",
       "    </tr>\n",
       "    <tr>\n",
       "      <th>0</th>\n",
       "      <td>number_of_reviews_ltm</td>\n",
       "      <td>-0.425458</td>\n",
       "    </tr>\n",
       "    <tr>\n",
       "      <th>0</th>\n",
       "      <td>propgroup_Houseboat</td>\n",
       "      <td>-0.539872</td>\n",
       "    </tr>\n",
       "    <tr>\n",
       "      <th>0</th>\n",
       "      <td>HostExperience</td>\n",
       "      <td>-0.557174</td>\n",
       "    </tr>\n",
       "    <tr>\n",
       "      <th>0</th>\n",
       "      <td>instant_bookable</td>\n",
       "      <td>-0.689795</td>\n",
       "    </tr>\n",
       "    <tr>\n",
       "      <th>0</th>\n",
       "      <td>stay_type_property_Long Stay</td>\n",
       "      <td>-1.162156</td>\n",
       "    </tr>\n",
       "    <tr>\n",
       "      <th>0</th>\n",
       "      <td>host_is_superhost</td>\n",
       "      <td>-1.267262</td>\n",
       "    </tr>\n",
       "    <tr>\n",
       "      <th>0</th>\n",
       "      <td>has_availability</td>\n",
       "      <td>-1.915970</td>\n",
       "    </tr>\n",
       "    <tr>\n",
       "      <th>0</th>\n",
       "      <td>propgroup_Condominium</td>\n",
       "      <td>-3.371368</td>\n",
       "    </tr>\n",
       "    <tr>\n",
       "      <th>0</th>\n",
       "      <td>propgroup_Guest Suite</td>\n",
       "      <td>-12.915866</td>\n",
       "    </tr>\n",
       "    <tr>\n",
       "      <th>0</th>\n",
       "      <td>propgroup_Castle</td>\n",
       "      <td>-18.590919</td>\n",
       "    </tr>\n",
       "    <tr>\n",
       "      <th>0</th>\n",
       "      <td>room_type_Hotel room</td>\n",
       "      <td>-37.463373</td>\n",
       "    </tr>\n",
       "    <tr>\n",
       "      <th>0</th>\n",
       "      <td>room_type_Private room</td>\n",
       "      <td>-54.825665</td>\n",
       "    </tr>\n",
       "    <tr>\n",
       "      <th>0</th>\n",
       "      <td>room_type_Shared room</td>\n",
       "      <td>-76.103588</td>\n",
       "    </tr>\n",
       "  </tbody>\n",
       "</table>\n",
       "</div>"
      ],
      "text/plain": [
       "                        Feature  Importance\n",
       "0                      latitude  365.304849\n",
       "0                     longitude  130.461105\n",
       "0                propgroup_Boat   76.330784\n",
       "0               propgroup_Hotel   62.437030\n",
       "0               propgroup_House   39.467863\n",
       "0          propgroup_Guesthouse   35.975623\n",
       "0           propgroup_Townhouse   28.281932\n",
       "0                 propgroup_BnB   16.205361\n",
       "0                  accommodates   16.059708\n",
       "0                propgroup_Loft   13.710400\n",
       "0                          beds    5.867957\n",
       "0                propgroup_Home    5.594145\n",
       "0               propgroup_Villa    4.969397\n",
       "0            propgroup_Bungalow    0.636986\n",
       "0          host_acceptance_rate    0.094700\n",
       "0           host_listings_count    0.028619\n",
       "0              availability_365    0.002220\n",
       "0                maximum_nights   -0.002990\n",
       "0             number_of_reviews   -0.011229\n",
       "0                minimum_nights   -0.044735\n",
       "0            host_response_rate   -0.082344\n",
       "0         number_of_reviews_ltm   -0.425458\n",
       "0           propgroup_Houseboat   -0.539872\n",
       "0                HostExperience   -0.557174\n",
       "0              instant_bookable   -0.689795\n",
       "0  stay_type_property_Long Stay   -1.162156\n",
       "0             host_is_superhost   -1.267262\n",
       "0              has_availability   -1.915970\n",
       "0         propgroup_Condominium   -3.371368\n",
       "0         propgroup_Guest Suite  -12.915866\n",
       "0              propgroup_Castle  -18.590919\n",
       "0          room_type_Hotel room  -37.463373\n",
       "0        room_type_Private room  -54.825665\n",
       "0         room_type_Shared room  -76.103588"
      ]
     },
     "execution_count": 170,
     "metadata": {},
     "output_type": "execute_result"
    }
   ],
   "source": [
    "# get importance\n",
    "importance = lm_model.coef_\n",
    "df_feature_imp = pd.DataFrame(columns = ['Feature','Importance'])\n",
    "# summarize feature importance\n",
    "for i, v in enumerate(importance[0]):\n",
    "    b = {'Feature':[x.columns[i]],'Importance':[v]}\n",
    "    d = pd.DataFrame.from_dict(b)\n",
    "    df_feature_imp = df_feature_imp.append(d)   \n",
    "df_feature_imp = df_feature_imp.sort_values('Importance', ascending = False)\n",
    "df_feature_imp"
   ]
  },
  {
   "cell_type": "code",
   "execution_count": 171,
   "metadata": {},
   "outputs": [
    {
     "data": {
      "text/plain": [
       "Text(0.5, 1.0, 'Top 5 Important Feature for Boston City')"
      ]
     },
     "execution_count": 171,
     "metadata": {},
     "output_type": "execute_result"
    },
    {
     "data": {
      "text/plain": [
       "Text(0.5, 0, 'Features')"
      ]
     },
     "execution_count": 171,
     "metadata": {},
     "output_type": "execute_result"
    },
    {
     "data": {
      "text/plain": [
       "Text(0, 0.5, 'Importance')"
      ]
     },
     "execution_count": 171,
     "metadata": {},
     "output_type": "execute_result"
    },
    {
     "data": {
      "text/plain": [
       "(array([0, 1, 2, 3, 4]), <a list of 5 Text xticklabel objects>)"
      ]
     },
     "execution_count": 171,
     "metadata": {},
     "output_type": "execute_result"
    },
    {
     "data": {
      "text/plain": [
       "Text(0, 5, '365')"
      ]
     },
     "execution_count": 171,
     "metadata": {},
     "output_type": "execute_result"
    },
    {
     "data": {
      "text/plain": [
       "Text(0, 5, '130')"
      ]
     },
     "execution_count": 171,
     "metadata": {},
     "output_type": "execute_result"
    },
    {
     "data": {
      "text/plain": [
       "Text(0, 5, '76')"
      ]
     },
     "execution_count": 171,
     "metadata": {},
     "output_type": "execute_result"
    },
    {
     "data": {
      "text/plain": [
       "Text(0, 5, '62')"
      ]
     },
     "execution_count": 171,
     "metadata": {},
     "output_type": "execute_result"
    },
    {
     "data": {
      "text/plain": [
       "Text(0, 5, '39')"
      ]
     },
     "execution_count": 171,
     "metadata": {},
     "output_type": "execute_result"
    },
    {
     "data": {
      "image/png": "[encoded data removed]",
      "text/plain": [
       "<Figure size 432x288 with 1 Axes>"
      ]
     },
     "metadata": {
      "needs_background": "light"
     },
     "output_type": "display_data"
    }
   ],
   "source": [
    "chart = sns.barplot(x=\"Feature\", y=\"Importance\" , data=df_feature_imp.head(5))\n",
    "plt.title('Top 5 Important Feature for Boston City')\n",
    "plt.xlabel(\"Features\")\n",
    "plt.ylabel(\"Importance\")\n",
    "plt.xticks(rotation=90)\n",
    "# label points on the plot\n",
    "for p in chart.patches:\n",
    "    chart.annotate(\"%.0f\" % p.get_height(), (p.get_x() + p.get_width() / 2.,\n",
    "                                             p.get_height()), ha='center',\n",
    "                   va='center', fontsize=8, color='black', xytext=(0, 5),\n",
    "                   textcoords='offset points')\n",
    "plt.show()"
   ]
  },
  {
   "cell_type": "markdown",
   "metadata": {},
   "source": [
    "**Seattle City** Using Linear Regression Technique"
   ]
  },
  {
   "cell_type": "code",
   "execution_count": 172,
   "metadata": {},
   "outputs": [],
   "source": [
    "df_seattle = df_combine_all.loc[df_combine_all['City'] == 'Seattle']"
   ]
  },
  {
   "cell_type": "markdown",
   "metadata": {},
   "source": [
    "**Handling Null Values**\n",
    "1. Host Response Rate & Host Acceptance Rate: Approx 20% of entries are missing and replaclacing it by mean\n",
    "2. Superhost: Superhost are those which do significant business for Airbnb, we are assuming here that if data is missing then that host is not a superhost\n",
    "3. Host Listing Count We are assuming that there is one property per hosts where data is missing\n",
    "4. Host Experience We are assuming experience to be 1 year if data is missing\n",
    "5. Beds  Replacing it by minimum 1 bed per property"
   ]
  },
  {
   "cell_type": "code",
   "execution_count": 173,
   "metadata": {},
   "outputs": [
    {
     "data": {
      "text/plain": [
       "host_response_rate       0.0\n",
       "host_acceptance_rate     0.0\n",
       "host_is_superhost        0.0\n",
       "latitude                 0.0\n",
       "longitude                0.0\n",
       "room_type                0.0\n",
       "price                    0.0\n",
       "minimum_nights           0.0\n",
       "maximum_nights           0.0\n",
       "has_availability         0.0\n",
       "availability_365         0.0\n",
       "number_of_reviews        0.0\n",
       "number_of_reviews_ltm    0.0\n",
       "instant_bookable         0.0\n",
       "host_listings_count      0.0\n",
       "accommodates             0.0\n",
       "beds                     0.0\n",
       "HostExperience           0.0\n",
       "propgroup                0.0\n",
       "stay_type_property       0.0\n",
       "dtype: float64"
      ]
     },
     "execution_count": 173,
     "metadata": {},
     "output_type": "execute_result"
    }
   ],
   "source": [
    "df_seattle['host_response_rate'].fillna(np.mean(df_seattle['host_response_rate']),inplace = True)\n",
    "df_seattle['host_acceptance_rate'].fillna(np.mean(df_seattle['host_acceptance_rate']),inplace = True)\n",
    "df_seattle['host_is_superhost'].fillna(False,inplace = True)\n",
    "df_seattle['host_listings_count'].fillna(1,inplace = True)\n",
    "df_seattle['HostExperience'].fillna(1,inplace = True)\n",
    "df_seattle['beds'].fillna(1,inplace = True)\n",
    "\n",
    "# Dropping Columns because most of the values were NAN\n",
    "df_seattle.drop(['City','property_type','amenities','name','host_name','review_scores_rating','review_scores_accuracy','review_scores_cleanliness','review_scores_checkin','review_scores_communication','review_scores_location','review_scores_value','bedrooms','host_id','id','neighbourhood_cleansed'], axis =1, inplace = True)\n",
    "\n",
    "df_seattle.isna().mean()*100"
   ]
  },
  {
   "cell_type": "code",
   "execution_count": 174,
   "metadata": {},
   "outputs": [],
   "source": [
    "cat_df = df_seattle.select_dtypes(include=['object','category'])\n",
    "num_df = df_seattle.select_dtypes(include = ['float64','int64','bool'])\n",
    "cat_df = create_dummy_df(cat_df, cat_df.columns, False)\n",
    "df_seattle = pd.concat([cat_df,num_df],axis = 1)"
   ]
  },
  {
   "cell_type": "code",
   "execution_count": 175,
   "metadata": {},
   "outputs": [],
   "source": [
    "x = df_seattle[['room_type_Hotel room', 'room_type_Private room',\n",
    "                'room_type_Shared room', 'propgroup_BnB', 'propgroup_Boat',\n",
    "                'propgroup_Bungalow', 'propgroup_Cabin', 'propgroup_Camper',\n",
    "                'propgroup_Condominium', 'propgroup_Cottage',\n",
    "                'propgroup_Earth House',\n",
    "                'propgroup_Guest Suite', 'propgroup_Guesthouse',\n",
    "                'propgroup_Home',\n",
    "                'propgroup_Hostel', 'propgroup_Hotel', 'propgroup_House',\n",
    "                'propgroup_Houseboat', 'propgroup_Loft', 'propgroup_Room',\n",
    "                'propgroup_Tent', 'propgroup_Tiny House',\n",
    "                'propgroup_Townhouse',\n",
    "                'propgroup_Treehouse', 'propgroup_Villa',\n",
    "                'stay_type_property_Long Stay', 'host_response_rate',\n",
    "                'host_acceptance_rate', 'host_is_superhost',\n",
    "                'latitude', 'longitude',\n",
    "                'minimum_nights', 'maximum_nights', 'has_availability',\n",
    "                'availability_365', 'number_of_reviews',\n",
    "                'number_of_reviews_ltm', 'instant_bookable',\n",
    "                'host_listings_count', 'accommodates', 'beds',\n",
    "                'HostExperience']]\n",
    "\n",
    "y = df_seattle[['price']]"
   ]
  },
  {
   "cell_type": "code",
   "execution_count": 176,
   "metadata": {},
   "outputs": [
    {
     "data": {
      "text/plain": [
       "LinearRegression(copy_X=True, fit_intercept=True, n_jobs=None, normalize=True)"
      ]
     },
     "execution_count": 176,
     "metadata": {},
     "output_type": "execute_result"
    },
    {
     "data": {
      "text/plain": [
       "'The r-squared score for your model was 0.5131024399268451 on 1192 values.'"
      ]
     },
     "execution_count": 176,
     "metadata": {},
     "output_type": "execute_result"
    }
   ],
   "source": [
    "# Split into train and test\n",
    "X_train, X_test, y_train, y_test = train_test_split(x, y, test_size = .30, random_state=42) \n",
    "\n",
    "lm_model_s = LinearRegression(normalize=True)  # Instantiate\n",
    "lm_model_s.fit(X_train, y_train)  # Fit\n",
    "\n",
    "# Predict and score the model\n",
    "y_test_preds = lm_model_s.predict(X_test)\n",
    "\n",
    "# Rsquared and y_test\n",
    "rsquared_score = r2_score(y_test, y_test_preds)\n",
    "length_y_test = len(y_test)\n",
    "\n",
    "\"The r-squared score for your model was {} on {} values.\".format(rsquared_score, length_y_test)"
   ]
  },
  {
   "cell_type": "code",
   "execution_count": 177,
   "metadata": {},
   "outputs": [
    {
     "data": {
      "text/html": [
       "<div>\n",
       "<style scoped>\n",
       "    .dataframe tbody tr th:only-of-type {\n",
       "        vertical-align: middle;\n",
       "    }\n",
       "\n",
       "    .dataframe tbody tr th {\n",
       "        vertical-align: top;\n",
       "    }\n",
       "\n",
       "    .dataframe thead th {\n",
       "        text-align: right;\n",
       "    }\n",
       "</style>\n",
       "<table border=\"1\" class=\"dataframe\">\n",
       "  <thead>\n",
       "    <tr style=\"text-align: right;\">\n",
       "      <th></th>\n",
       "      <th>Feature</th>\n",
       "      <th>Importance</th>\n",
       "    </tr>\n",
       "  </thead>\n",
       "  <tbody>\n",
       "    <tr>\n",
       "      <th>0</th>\n",
       "      <td>propgroup_Tiny House</td>\n",
       "      <td>365.304849</td>\n",
       "    </tr>\n",
       "    <tr>\n",
       "      <th>0</th>\n",
       "      <td>propgroup_Townhouse</td>\n",
       "      <td>130.461105</td>\n",
       "    </tr>\n",
       "    <tr>\n",
       "      <th>0</th>\n",
       "      <td>propgroup_Boat</td>\n",
       "      <td>76.330784</td>\n",
       "    </tr>\n",
       "    <tr>\n",
       "      <th>0</th>\n",
       "      <td>propgroup_Guest Suite</td>\n",
       "      <td>62.437030</td>\n",
       "    </tr>\n",
       "    <tr>\n",
       "      <th>0</th>\n",
       "      <td>propgroup_Guesthouse</td>\n",
       "      <td>39.467863</td>\n",
       "    </tr>\n",
       "    <tr>\n",
       "      <th>0</th>\n",
       "      <td>propgroup_Cottage</td>\n",
       "      <td>35.975623</td>\n",
       "    </tr>\n",
       "    <tr>\n",
       "      <th>0</th>\n",
       "      <td>propgroup_Hotel</td>\n",
       "      <td>28.281932</td>\n",
       "    </tr>\n",
       "    <tr>\n",
       "      <th>0</th>\n",
       "      <td>propgroup_BnB</td>\n",
       "      <td>16.205361</td>\n",
       "    </tr>\n",
       "    <tr>\n",
       "      <th>0</th>\n",
       "      <td>minimum_nights</td>\n",
       "      <td>16.059708</td>\n",
       "    </tr>\n",
       "    <tr>\n",
       "      <th>0</th>\n",
       "      <td>propgroup_Hostel</td>\n",
       "      <td>13.710400</td>\n",
       "    </tr>\n",
       "    <tr>\n",
       "      <th>0</th>\n",
       "      <td>maximum_nights</td>\n",
       "      <td>5.867957</td>\n",
       "    </tr>\n",
       "    <tr>\n",
       "      <th>0</th>\n",
       "      <td>propgroup_Earth House</td>\n",
       "      <td>5.594145</td>\n",
       "    </tr>\n",
       "    <tr>\n",
       "      <th>0</th>\n",
       "      <td>propgroup_House</td>\n",
       "      <td>4.969397</td>\n",
       "    </tr>\n",
       "    <tr>\n",
       "      <th>0</th>\n",
       "      <td>propgroup_Bungalow</td>\n",
       "      <td>0.636986</td>\n",
       "    </tr>\n",
       "    <tr>\n",
       "      <th>0</th>\n",
       "      <td>propgroup_Room</td>\n",
       "      <td>0.094700</td>\n",
       "    </tr>\n",
       "    <tr>\n",
       "      <th>0</th>\n",
       "      <td>longitude</td>\n",
       "      <td>0.028619</td>\n",
       "    </tr>\n",
       "    <tr>\n",
       "      <th>0</th>\n",
       "      <td>host_response_rate</td>\n",
       "      <td>0.002220</td>\n",
       "    </tr>\n",
       "    <tr>\n",
       "      <th>0</th>\n",
       "      <td>propgroup_Villa</td>\n",
       "      <td>-0.002990</td>\n",
       "    </tr>\n",
       "    <tr>\n",
       "      <th>0</th>\n",
       "      <td>host_acceptance_rate</td>\n",
       "      <td>-0.011229</td>\n",
       "    </tr>\n",
       "    <tr>\n",
       "      <th>0</th>\n",
       "      <td>propgroup_Treehouse</td>\n",
       "      <td>-0.044735</td>\n",
       "    </tr>\n",
       "    <tr>\n",
       "      <th>0</th>\n",
       "      <td>propgroup_Loft</td>\n",
       "      <td>-0.082344</td>\n",
       "    </tr>\n",
       "    <tr>\n",
       "      <th>0</th>\n",
       "      <td>host_is_superhost</td>\n",
       "      <td>-0.425458</td>\n",
       "    </tr>\n",
       "    <tr>\n",
       "      <th>0</th>\n",
       "      <td>propgroup_Home</td>\n",
       "      <td>-0.539872</td>\n",
       "    </tr>\n",
       "    <tr>\n",
       "      <th>0</th>\n",
       "      <td>has_availability</td>\n",
       "      <td>-0.557174</td>\n",
       "    </tr>\n",
       "    <tr>\n",
       "      <th>0</th>\n",
       "      <td>latitude</td>\n",
       "      <td>-0.689795</td>\n",
       "    </tr>\n",
       "    <tr>\n",
       "      <th>0</th>\n",
       "      <td>propgroup_Houseboat</td>\n",
       "      <td>-1.162156</td>\n",
       "    </tr>\n",
       "    <tr>\n",
       "      <th>0</th>\n",
       "      <td>propgroup_Tent</td>\n",
       "      <td>-1.267262</td>\n",
       "    </tr>\n",
       "    <tr>\n",
       "      <th>0</th>\n",
       "      <td>stay_type_property_Long Stay</td>\n",
       "      <td>-1.915970</td>\n",
       "    </tr>\n",
       "    <tr>\n",
       "      <th>0</th>\n",
       "      <td>propgroup_Camper</td>\n",
       "      <td>-3.371368</td>\n",
       "    </tr>\n",
       "    <tr>\n",
       "      <th>0</th>\n",
       "      <td>propgroup_Condominium</td>\n",
       "      <td>-12.915866</td>\n",
       "    </tr>\n",
       "    <tr>\n",
       "      <th>0</th>\n",
       "      <td>propgroup_Cabin</td>\n",
       "      <td>-18.590919</td>\n",
       "    </tr>\n",
       "    <tr>\n",
       "      <th>0</th>\n",
       "      <td>room_type_Hotel room</td>\n",
       "      <td>-37.463373</td>\n",
       "    </tr>\n",
       "    <tr>\n",
       "      <th>0</th>\n",
       "      <td>room_type_Private room</td>\n",
       "      <td>-54.825665</td>\n",
       "    </tr>\n",
       "    <tr>\n",
       "      <th>0</th>\n",
       "      <td>room_type_Shared room</td>\n",
       "      <td>-76.103588</td>\n",
       "    </tr>\n",
       "  </tbody>\n",
       "</table>\n",
       "</div>"
      ],
      "text/plain": [
       "                        Feature  Importance\n",
       "0          propgroup_Tiny House  365.304849\n",
       "0           propgroup_Townhouse  130.461105\n",
       "0                propgroup_Boat   76.330784\n",
       "0         propgroup_Guest Suite   62.437030\n",
       "0          propgroup_Guesthouse   39.467863\n",
       "0             propgroup_Cottage   35.975623\n",
       "0               propgroup_Hotel   28.281932\n",
       "0                 propgroup_BnB   16.205361\n",
       "0                minimum_nights   16.059708\n",
       "0              propgroup_Hostel   13.710400\n",
       "0                maximum_nights    5.867957\n",
       "0         propgroup_Earth House    5.594145\n",
       "0               propgroup_House    4.969397\n",
       "0            propgroup_Bungalow    0.636986\n",
       "0                propgroup_Room    0.094700\n",
       "0                     longitude    0.028619\n",
       "0            host_response_rate    0.002220\n",
       "0               propgroup_Villa   -0.002990\n",
       "0          host_acceptance_rate   -0.011229\n",
       "0           propgroup_Treehouse   -0.044735\n",
       "0                propgroup_Loft   -0.082344\n",
       "0             host_is_superhost   -0.425458\n",
       "0                propgroup_Home   -0.539872\n",
       "0              has_availability   -0.557174\n",
       "0                      latitude   -0.689795\n",
       "0           propgroup_Houseboat   -1.162156\n",
       "0                propgroup_Tent   -1.267262\n",
       "0  stay_type_property_Long Stay   -1.915970\n",
       "0              propgroup_Camper   -3.371368\n",
       "0         propgroup_Condominium  -12.915866\n",
       "0               propgroup_Cabin  -18.590919\n",
       "0          room_type_Hotel room  -37.463373\n",
       "0        room_type_Private room  -54.825665\n",
       "0         room_type_Shared room  -76.103588"
      ]
     },
     "execution_count": 177,
     "metadata": {},
     "output_type": "execute_result"
    }
   ],
   "source": [
    "# get importance\n",
    "importance = lm_model.coef_\n",
    "df_feature_imp_s = pd.DataFrame(columns = ['Feature','Importance'])\n",
    "# summarize feature importance\n",
    "for i, v in enumerate(importance[0]):\n",
    "    b = {'Feature':[x.columns[i]],'Importance':[v]}\n",
    "    d = pd.DataFrame.from_dict(b)\n",
    "    df_feature_imp_s = df_feature_imp_s.append(d)\n",
    "\n",
    "df_feature_imp_s = df_feature_imp_s.sort_values('Importance', ascending = False)\n",
    "df_feature_imp_s"
   ]
  },
  {
   "cell_type": "code",
   "execution_count": 178,
   "metadata": {},
   "outputs": [
    {
     "data": {
      "text/plain": [
       "Text(0.5, 1.0, 'Top 5 Important Feature for Seattle City')"
      ]
     },
     "execution_count": 178,
     "metadata": {},
     "output_type": "execute_result"
    },
    {
     "data": {
      "text/plain": [
       "Text(0.5, 0, 'Features')"
      ]
     },
     "execution_count": 178,
     "metadata": {},
     "output_type": "execute_result"
    },
    {
     "data": {
      "text/plain": [
       "Text(0, 0.5, 'Importance')"
      ]
     },
     "execution_count": 178,
     "metadata": {},
     "output_type": "execute_result"
    },
    {
     "data": {
      "text/plain": [
       "(array([0, 1, 2, 3, 4]), <a list of 5 Text xticklabel objects>)"
      ]
     },
     "execution_count": 178,
     "metadata": {},
     "output_type": "execute_result"
    },
    {
     "data": {
      "text/plain": [
       "Text(0, 5, '365')"
      ]
     },
     "execution_count": 178,
     "metadata": {},
     "output_type": "execute_result"
    },
    {
     "data": {
      "text/plain": [
       "Text(0, 5, '130')"
      ]
     },
     "execution_count": 178,
     "metadata": {},
     "output_type": "execute_result"
    },
    {
     "data": {
      "text/plain": [
       "Text(0, 5, '76')"
      ]
     },
     "execution_count": 178,
     "metadata": {},
     "output_type": "execute_result"
    },
    {
     "data": {
      "text/plain": [
       "Text(0, 5, '62')"
      ]
     },
     "execution_count": 178,
     "metadata": {},
     "output_type": "execute_result"
    },
    {
     "data": {
      "text/plain": [
       "Text(0, 5, '39')"
      ]
     },
     "execution_count": 178,
     "metadata": {},
     "output_type": "execute_result"
    },
    {
     "data": {
      "image/png": "[encoded data removed]",
      "text/plain": [
       "<Figure size 432x288 with 1 Axes>"
      ]
     },
     "metadata": {
      "needs_background": "light"
     },
     "output_type": "display_data"
    }
   ],
   "source": [
    "chart = sns.barplot(x=\"Feature\", y=\"Importance\" , data=df_feature_imp_s.head(5))\n",
    "plt.title('Top 5 Important Feature for Seattle City')\n",
    "plt.xlabel(\"Features\")\n",
    "plt.ylabel(\"Importance\")\n",
    "plt.xticks(rotation=90)\n",
    "# label points on the plot\n",
    "for p in chart.patches:\n",
    "    chart.annotate(\"%.0f\" % p.get_height(), (p.get_x() + p.get_width() / 2.,\n",
    "                                             p.get_height()), ha='center',\n",
    "                   va='center', fontsize=8, color='black', xytext=(0, 5),\n",
    "                   textcoords='offset points')\n",
    "plt.show()"
   ]
  }
 ],
 "metadata": {
  "kernelspec": {
   "display_name": "Python 3",
   "language": "python",
   "name": "python3"
  },
  "language_info": {
   "codemirror_mode": {
    "name": "ipython",
    "version": 3
   },
   "file_extension": ".py",
   "mimetype": "text/x-python",
   "name": "python",
   "nbconvert_exporter": "python",
   "pygments_lexer": "ipython3",
   "version": "3.7.3"
  }
 },
 "nbformat": 4,
 "nbformat_minor": 2
}
